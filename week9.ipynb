{
 "cells": [
  {
   "cell_type": "markdown",
   "id": "d021a434-7d14-45f3-9db8-6464ac461dc4",
   "metadata": {
    "editable": true,
    "slideshow": {
     "slide_type": ""
    },
    "tags": []
   },
   "source": [
    "# Introduction to Machine Learning"
   ]
  },
  {
   "cell_type": "markdown",
   "id": "52d43765-adec-492d-b08d-5ed41ffef789",
   "metadata": {},
   "source": [
    "By the end of this week, students will:\n",
    "\n",
    "Understand what machine learning (ML) is and where it’s used.\n",
    "\n",
    "Learn the difference between supervised and unsupervised learning.\n",
    "\n",
    "Use scikit-learn to run a simple prediction model.\n",
    "\n",
    "Interpret ML results in plain language."
   ]
  },
  {
   "cell_type": "markdown",
   "id": "d0710a8c-814b-4b12-8a87-baf7814e8550",
   "metadata": {},
   "source": [
    "# What is Machine Learning?"
   ]
  },
  {
   "cell_type": "raw",
   "id": "e91e85f8-782c-49f8-8742-4818bfdc0e4c",
   "metadata": {},
   "source": [
    "Definition: Teaching computers to learn patterns from data.\n",
    "\n",
    "Instead of programming rules manually → computer finds rules.\n",
    "\n",
    "Used in:\n",
    "\n",
    "Netflix recommendations\n",
    "\n",
    "Spam detection in emails\n",
    "\n",
    "Image recognition"
   ]
  },
  {
   "cell_type": "markdown",
   "id": "6827bba9-db3e-4cf8-bc82-1b7a9ad933ec",
   "metadata": {},
   "source": [
    "#  How ML Works (Simplified)"
   ]
  },
  {
   "cell_type": "raw",
   "id": "65cc89b7-1b2f-4c2e-bc86-99bceac60815",
   "metadata": {},
   "source": [
    "Collect Data (e.g., house prices, customer purchases)\n",
    "\n",
    "Train Model (find patterns)\n",
    "\n",
    "Test Model (check accuracy)\n",
    "\n",
    "Make Predictions (new, unseen data)"
   ]
  },
  {
   "cell_type": "markdown",
   "id": "f7009e51-9f89-49f2-a5ec-5bcf94fb120a",
   "metadata": {},
   "source": [
    "#  Types of ML"
   ]
  },
  {
   "cell_type": "raw",
   "id": "94d2e908-e011-4be7-8fae-0eb84e65f35e",
   "metadata": {},
   "source": [
    "Supervised Learning:\n",
    "\n",
    "Data has inputs and known outputs.\n",
    "\n",
    "Examples: predicting house prices, classifying emails.\n",
    "\n",
    "Unsupervised Learning:\n",
    "\n",
    "Only inputs, no outputs (computer finds patterns).\n",
    "\n",
    "Examples: customer segmentation, clustering documents."
   ]
  },
  {
   "cell_type": "markdown",
   "id": "cb4b8694-e429-4932-ac88-5e6b89ad7ace",
   "metadata": {},
   "source": [
    "# Simple Prediction with scikit-learn"
   ]
  },
  {
   "cell_type": "code",
   "execution_count": 1,
   "id": "d79d3502-1236-4da5-8293-4bc0dafc4061",
   "metadata": {},
   "outputs": [
    {
     "name": "stdout",
     "output_type": "stream",
     "text": [
      "[241666.66666667]\n"
     ]
    },
    {
     "name": "stderr",
     "output_type": "stream",
     "text": [
      "C:\\Users\\Woon\\anaconda3\\Lib\\site-packages\\sklearn\\base.py:493: UserWarning: X does not have valid feature names, but LinearRegression was fitted with feature names\n",
      "  warnings.warn(\n"
     ]
    }
   ],
   "source": [
    "import pandas as pd\n",
    "from sklearn.linear_model import LinearRegression\n",
    "\n",
    "# Data\n",
    "df = pd.DataFrame({\n",
    "    \"Size\": [1500, 1800, 2400],\n",
    "    \"Bedrooms\": [3, 4, 4],\n",
    "    \"Price\": [200000, 250000, 300000]\n",
    "})\n",
    "\n",
    "# Train\n",
    "X = df[[\"Size\", \"Bedrooms\"]]\n",
    "y = df[\"Price\"]\n",
    "\n",
    "model = LinearRegression()\n",
    "model.fit(X, y)\n",
    "\n",
    "# Predict\n",
    "new_house = [[2000, 3]]\n",
    "print(model.predict(new_house))"
   ]
  },
  {
   "cell_type": "markdown",
   "id": "8bfacdf7-24cc-486c-a49c-c14253e1cbd6",
   "metadata": {},
   "source": [
    "# Classification Example (Iris Dataset)"
   ]
  },
  {
   "cell_type": "code",
   "execution_count": 2,
   "id": "04a87a59-c8f5-4d3c-84af-fa11748b43bf",
   "metadata": {},
   "outputs": [
    {
     "name": "stdout",
     "output_type": "stream",
     "text": [
      "[0]\n"
     ]
    }
   ],
   "source": [
    "from sklearn.datasets import load_iris\n",
    "from sklearn.neighbors import KNeighborsClassifier\n",
    "\n",
    "iris = load_iris()\n",
    "X, y = iris.data, iris.target\n",
    "\n",
    "model = KNeighborsClassifier(n_neighbors=3)\n",
    "model.fit(X, y)\n",
    "\n",
    "print(model.predict([[5.1, 3.5, 1.4, 0.2]]))"
   ]
  },
  {
   "cell_type": "markdown",
   "id": "5854c353-835c-4398-b37e-6eca87548b92",
   "metadata": {},
   "source": [
    "# Evaluating Accuracy"
   ]
  },
  {
   "cell_type": "code",
   "execution_count": 4,
   "id": "8b722691-4f06-4ca2-84c3-b54890220ab9",
   "metadata": {},
   "outputs": [
    {
     "name": "stdout",
     "output_type": "stream",
     "text": [
      "Accuracy: 0.9333333333333333\n"
     ]
    }
   ],
   "source": [
    "from sklearn.model_selection import train_test_split\n",
    "from sklearn.metrics import accuracy_score\n",
    "\n",
    "X_train, X_test, y_train, y_test = train_test_split(X, y, test_size=0.2)\n",
    "model.fit(X_train, y_train)\n",
    "predictions = model.predict(X_test)\n",
    "\n",
    "print(\"Accuracy:\", accuracy_score(y_test, predictions))"
   ]
  },
  {
   "cell_type": "markdown",
   "id": "46bf7d79-8385-481b-856c-3d6bbba56a1d",
   "metadata": {},
   "source": [
    "# In-Class Activity"
   ]
  },
  {
   "cell_type": "raw",
   "id": "d4aa66a7-dac9-41ea-a4e3-5524760deaa9",
   "metadata": {},
   "source": [
    "Use a dataset with Size, Bedrooms, and Price.\n",
    "\n",
    "Train a linear regression model.\n",
    "\n",
    "Predict the price of a house with 2200 sqft and 4 bedrooms.\n",
    "\n",
    "Check the model’s accuracy.\n",
    "\n"
   ]
  },
  {
   "cell_type": "markdown",
   "id": "3ec4f31a-3ea7-41f1-9607-fea8e04b3f75",
   "metadata": {},
   "source": [
    "# Common Mistakes"
   ]
  },
  {
   "cell_type": "raw",
   "id": "38139d84-a6cd-4683-9ca5-15d946651c3c",
   "metadata": {},
   "source": [
    "Using too little data → poor accuracy.\n",
    "\n",
    "Forgetting to split data into training/testing sets.\n",
    "\n",
    "Overfitting → model memorizes instead of learning."
   ]
  },
  {
   "cell_type": "markdown",
   "id": "c968f1bb-cd12-4842-90d8-7e0caa606b68",
   "metadata": {},
   "source": [
    "# Key Takeaways"
   ]
  },
  {
   "cell_type": "raw",
   "id": "3fddd68c-0747-4123-8648-2fcbc660049b",
   "metadata": {},
   "source": [
    "ML finds patterns in data to make predictions.\n",
    "\n",
    "Supervised = known answers, Unsupervised = find structure.\n",
    "\n",
    "scikit-learn makes ML accessible without deep math."
   ]
  },
  {
   "cell_type": "markdown",
   "id": "8200335e-0601-4810-959a-71151cfb5bf3",
   "metadata": {},
   "source": [
    "# Homework"
   ]
  },
  {
   "cell_type": "raw",
   "id": "9fb61741-e014-45d0-be74-86f46a300a6c",
   "metadata": {
    "editable": true,
    "slideshow": {
     "slide_type": ""
    },
    "tags": []
   },
   "source": [
    "Find a small dataset online (e.g., Kaggle).\n",
    "\n",
    "Train a simple supervised ML model.\n",
    "\n",
    "Make predictions and compare with actual results.\n",
    "\n"
   ]
  }
 ],
 "metadata": {
  "kernelspec": {
   "display_name": "Python [conda env:base] *",
   "language": "python",
   "name": "conda-base-py"
  },
  "language_info": {
   "codemirror_mode": {
    "name": "ipython",
    "version": 3
   },
   "file_extension": ".py",
   "mimetype": "text/x-python",
   "name": "python",
   "nbconvert_exporter": "python",
   "pygments_lexer": "ipython3",
   "version": "3.12.7"
  }
 },
 "nbformat": 4,
 "nbformat_minor": 5
}
