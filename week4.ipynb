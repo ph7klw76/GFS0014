{
 "cells": [
  {
   "cell_type": "markdown",
   "id": "84286344-ea34-4932-9c02-e01049ff18aa",
   "metadata": {
    "editable": true,
    "slideshow": {
     "slide_type": ""
    },
    "tags": []
   },
   "source": [
    "# Simple Automation with Python"
   ]
  },
  {
   "cell_type": "raw",
   "id": "c31342bf-2a69-463b-9f2b-dcc09dfefb55",
   "metadata": {},
   "source": [
    "By the end of this week, students will:\n",
    "\n",
    "Understand loops (for, while) and conditional statements (if, else).\n",
    "\n",
    "Automate simple tasks with Python.\n",
    "\n",
    "Work with files automatically.\n",
    "\n",
    "Create scripts to process multiple items without manual effort."
   ]
  },
  {
   "cell_type": "markdown",
   "id": "98ae67e9-c0ff-44f8-9791-c1bfb687fe7a",
   "metadata": {},
   "source": [
    "# Why Automate?"
   ]
  },
  {
   "cell_type": "raw",
   "id": "a74ee53f-5989-4b1a-b53c-dfca0aa36c2a",
   "metadata": {},
   "source": [
    "Saves time.\n",
    "\n",
    "Reduces manual mistakes.\n",
    "\n",
    "Useful for:\n",
    "\n",
    "Renaming multiple files\n",
    "\n",
    "Processing large datasets\n",
    "\n",
    "Sending automatic reports"
   ]
  },
  {
   "cell_type": "markdown",
   "id": "460ef62f-3bea-408d-8870-756be3417810",
   "metadata": {},
   "source": [
    "# Conditional Statements"
   ]
  },
  {
   "cell_type": "code",
   "execution_count": 31,
   "id": "ecc20298-74fb-4286-b1f1-183f7dd83e7c",
   "metadata": {},
   "outputs": [
    {
     "name": "stdout",
     "output_type": "stream",
     "text": [
      "x is greater than 5\n"
     ]
    }
   ],
   "source": [
    "x = 10\n",
    "if x > 5:\n",
    "    print(\"x is greater than 5\")\n",
    "else:\n",
    "    print(\"x is not greater than 5\")"
   ]
  },
  {
   "cell_type": "raw",
   "id": "815aff8a-acb1-4d91-a7e3-a6e89db4941e",
   "metadata": {},
   "source": [
    "If → check a condition.\n",
    "\n",
    "Else → do something if it’s not true.\n",
    "\n",
    "Elif → check another condition."
   ]
  },
  {
   "cell_type": "code",
   "execution_count": 32,
   "id": "b9ac5af2-f089-482f-b8b1-f2dbe8ec4377",
   "metadata": {},
   "outputs": [
    {
     "name": "stdout",
     "output_type": "stream",
     "text": [
      "b is greater than a\n"
     ]
    }
   ],
   "source": [
    "a = 33\n",
    "b = 200\n",
    "if b > a:\n",
    "  print(\"b is greater than a\")"
   ]
  },
  {
   "cell_type": "code",
   "execution_count": 33,
   "id": "55249fe4-68cc-4bae-9f9f-567446d759ca",
   "metadata": {},
   "outputs": [
    {
     "name": "stdout",
     "output_type": "stream",
     "text": [
      "a and b are equal\n"
     ]
    }
   ],
   "source": [
    "a = 33\n",
    "b = 33\n",
    "if b > a:\n",
    "  print(\"b is greater than a\")\n",
    "elif a == b:\n",
    "  print(\"a and b are equal\")"
   ]
  },
  {
   "cell_type": "code",
   "execution_count": 34,
   "id": "ccc583eb-28b3-49e6-94ad-77147f91d173",
   "metadata": {},
   "outputs": [
    {
     "name": "stdout",
     "output_type": "stream",
     "text": [
      "b is not greater than a\n"
     ]
    }
   ],
   "source": [
    "a = 200\n",
    "b = 33\n",
    "if b > a:\n",
    "  print(\"b is greater than a\")\n",
    "else:\n",
    "  print(\"b is not greater than a\")\n"
   ]
  },
  {
   "cell_type": "markdown",
   "id": "6398f04c-47db-486b-95ce-fda6f714e6d0",
   "metadata": {},
   "source": [
    "## Short Hand If"
   ]
  },
  {
   "cell_type": "code",
   "execution_count": 35,
   "id": "8728c7ed-5715-449d-86bc-b5c117783e3d",
   "metadata": {},
   "outputs": [
    {
     "name": "stdout",
     "output_type": "stream",
     "text": [
      "a is greater than b\n"
     ]
    }
   ],
   "source": [
    "if a > b: print(\"a is greater than b\")"
   ]
  },
  {
   "cell_type": "code",
   "execution_count": 36,
   "id": "119ae04e-7f62-4ab0-bba2-4403d551e426",
   "metadata": {},
   "outputs": [
    {
     "name": "stdout",
     "output_type": "stream",
     "text": [
      "B\n"
     ]
    }
   ],
   "source": [
    "a = 2\n",
    "b = 330\n",
    "print(\"A\") if a > b else print(\"B\")"
   ]
  },
  {
   "cell_type": "code",
   "execution_count": 37,
   "id": "eb036dcc-fc71-4d83-a3d2-7f090033c988",
   "metadata": {},
   "outputs": [
    {
     "name": "stdout",
     "output_type": "stream",
     "text": [
      "=\n"
     ]
    }
   ],
   "source": [
    "a = 330\n",
    "b = 330\n",
    "print(\"A\") if a > b else print(\"=\") if a == b else print(\"B\")"
   ]
  },
  {
   "cell_type": "markdown",
   "id": "edbfa0c3-88ab-4e41-a9a7-83d6c7cf134c",
   "metadata": {},
   "source": [
    "## And"
   ]
  },
  {
   "cell_type": "code",
   "execution_count": 38,
   "id": "d4ad8f17-5c3e-4176-a350-480e83958856",
   "metadata": {},
   "outputs": [
    {
     "name": "stdout",
     "output_type": "stream",
     "text": [
      "Both conditions are True\n"
     ]
    }
   ],
   "source": [
    "a = 200\n",
    "b = 33\n",
    "c = 500\n",
    "if a > b and c > a:\n",
    "  print(\"Both conditions are True\")"
   ]
  },
  {
   "cell_type": "markdown",
   "id": "0a6cc377-4a79-4f1f-8bbd-7ba7ea5b6273",
   "metadata": {},
   "source": [
    "## Or"
   ]
  },
  {
   "cell_type": "code",
   "execution_count": 39,
   "id": "a5669581-afb9-4a05-a049-675eaa63be52",
   "metadata": {},
   "outputs": [
    {
     "name": "stdout",
     "output_type": "stream",
     "text": [
      "At least one of the conditions is True\n"
     ]
    }
   ],
   "source": [
    "a = 200\n",
    "b = 33\n",
    "c = 500\n",
    "if a > b or a > c:\n",
    "  print(\"At least one of the conditions is True\")"
   ]
  },
  {
   "cell_type": "markdown",
   "id": "25532b3f-762c-4dc1-ae79-30387c2cd5a0",
   "metadata": {},
   "source": [
    "## Not"
   ]
  },
  {
   "cell_type": "code",
   "execution_count": 40,
   "id": "0273f585-d524-4fa0-be69-64cad2bba01f",
   "metadata": {},
   "outputs": [
    {
     "name": "stdout",
     "output_type": "stream",
     "text": [
      "a is NOT greater than b\n"
     ]
    }
   ],
   "source": [
    "a = 33\n",
    "b = 200\n",
    "if not a > b:\n",
    "  print(\"a is NOT greater than b\")"
   ]
  },
  {
   "cell_type": "markdown",
   "id": "3b83bce8-28b4-4f35-8b20-35202b364b8b",
   "metadata": {},
   "source": [
    "## Nested If"
   ]
  },
  {
   "cell_type": "code",
   "execution_count": 41,
   "id": "80ac351c-3a3d-4165-9deb-342c338ce449",
   "metadata": {},
   "outputs": [
    {
     "name": "stdout",
     "output_type": "stream",
     "text": [
      "Above ten,\n",
      "and also above 20!\n"
     ]
    }
   ],
   "source": [
    "x = 41\n",
    "\n",
    "if x > 10:\n",
    "  print(\"Above ten,\")\n",
    "  if x > 20:\n",
    "    print(\"and also above 20!\")\n",
    "  else:\n",
    "    print(\"but not above 20.\")"
   ]
  },
  {
   "cell_type": "markdown",
   "id": "01051827-5a8d-425d-8d3d-0ff686bfdf67",
   "metadata": {},
   "source": [
    "## The pass Statement\n",
    "if statements cannot be empty, but if you for some reason have an if statement with no content, put in the pass statement to avoid getting an error."
   ]
  },
  {
   "cell_type": "code",
   "execution_count": 42,
   "id": "fabbceb8-68e3-4a3f-914b-fa5c96a248f1",
   "metadata": {},
   "outputs": [],
   "source": [
    "a = 33\n",
    "b = 200\n",
    "\n",
    "if b > a:\n",
    "  pass"
   ]
  },
  {
   "cell_type": "markdown",
   "id": "719059e1-01b7-40f0-b483-deacd0380d80",
   "metadata": {},
   "source": [
    "# For Loops"
   ]
  },
  {
   "cell_type": "code",
   "execution_count": 43,
   "id": "04a19632-b16a-430d-90d1-cfaff5d033fe",
   "metadata": {},
   "outputs": [
    {
     "name": "stdout",
     "output_type": "stream",
     "text": [
      "apple\n",
      "banana\n",
      "cherry\n"
     ]
    }
   ],
   "source": [
    "fruits = [\"apple\", \"banana\", \"cherry\"]\n",
    "for fruit in fruits:\n",
    "    print(fruit)"
   ]
  },
  {
   "cell_type": "raw",
   "id": "c082d7d6-c162-446e-9c83-01aa177d311c",
   "metadata": {},
   "source": [
    "Loops through items in a list."
   ]
  },
  {
   "cell_type": "markdown",
   "id": "2f611d73-510f-4588-b6f1-c6111f7ddc45",
   "metadata": {},
   "source": [
    "# Looping Through a String"
   ]
  },
  {
   "cell_type": "code",
   "execution_count": 44,
   "id": "a133064d-1b2c-4749-80f9-9398fc89f1a6",
   "metadata": {},
   "outputs": [
    {
     "name": "stdout",
     "output_type": "stream",
     "text": [
      "b\n",
      "a\n",
      "n\n",
      "a\n",
      "n\n",
      "a\n"
     ]
    }
   ],
   "source": [
    "for x in \"banana\":\n",
    "  print(x)"
   ]
  },
  {
   "cell_type": "markdown",
   "id": "80a24bc1-7586-4848-a0ab-325f4e5188ef",
   "metadata": {},
   "source": [
    "## The break Statement"
   ]
  },
  {
   "cell_type": "code",
   "execution_count": 45,
   "id": "766f2326-3d25-42cb-8876-ae52a034c21f",
   "metadata": {},
   "outputs": [
    {
     "name": "stdout",
     "output_type": "stream",
     "text": [
      "apple\n",
      "banana\n"
     ]
    }
   ],
   "source": [
    "fruits = [\"apple\", \"banana\", \"cherry\"]\n",
    "for x in fruits:\n",
    "  print(x)\n",
    "  if x == \"banana\":\n",
    "    break"
   ]
  },
  {
   "cell_type": "code",
   "execution_count": 46,
   "id": "f764f710-ee29-4644-a40e-c99704c53bb8",
   "metadata": {},
   "outputs": [
    {
     "name": "stdout",
     "output_type": "stream",
     "text": [
      "apple\n"
     ]
    }
   ],
   "source": [
    "fruits = [\"apple\", \"banana\", \"cherry\"]\n",
    "for x in fruits:\n",
    "  if x == \"banana\":\n",
    "    break\n",
    "  print(x)"
   ]
  },
  {
   "cell_type": "markdown",
   "id": "a85276c8-eb48-42ac-add3-56f48e2b2efc",
   "metadata": {},
   "source": [
    "## The continue Statement\n",
    "With the continue statement we can stop the current iteration of the loop, and continue with the next:"
   ]
  },
  {
   "cell_type": "code",
   "execution_count": 47,
   "id": "b6fbc2de-98bc-400c-a198-7494564ee25c",
   "metadata": {},
   "outputs": [
    {
     "name": "stdout",
     "output_type": "stream",
     "text": [
      "apple\n",
      "cherry\n"
     ]
    }
   ],
   "source": [
    "fruits = [\"apple\", \"banana\", \"cherry\"]\n",
    "for x in fruits:\n",
    "  if x == \"banana\":\n",
    "    continue\n",
    "  print(x)"
   ]
  },
  {
   "cell_type": "markdown",
   "id": "58576969-f359-4543-8879-37af1735dcf2",
   "metadata": {},
   "source": [
    "## The range() Function"
   ]
  },
  {
   "cell_type": "code",
   "execution_count": 48,
   "id": "c6c67083-6c95-4e85-a925-8f863233b4af",
   "metadata": {},
   "outputs": [
    {
     "name": "stdout",
     "output_type": "stream",
     "text": [
      "0\n",
      "1\n",
      "2\n",
      "3\n",
      "4\n",
      "5\n"
     ]
    }
   ],
   "source": [
    "for x in range(6):\n",
    "  print(x)"
   ]
  },
  {
   "cell_type": "code",
   "execution_count": 49,
   "id": "ac804bc1-6286-412e-a139-55fa4012e9b0",
   "metadata": {},
   "outputs": [
    {
     "name": "stdout",
     "output_type": "stream",
     "text": [
      "2\n",
      "3\n",
      "4\n",
      "5\n"
     ]
    }
   ],
   "source": [
    "for x in range(2, 6):\n",
    "  print(x)"
   ]
  },
  {
   "cell_type": "code",
   "execution_count": 50,
   "id": "4c310673-31a6-4609-9497-7bc732212391",
   "metadata": {},
   "outputs": [
    {
     "name": "stdout",
     "output_type": "stream",
     "text": [
      "2\n",
      "5\n",
      "8\n",
      "11\n",
      "14\n",
      "17\n",
      "20\n",
      "23\n",
      "26\n",
      "29\n"
     ]
    }
   ],
   "source": [
    "for x in range(2, 30, 3):\n",
    "  print(x)"
   ]
  },
  {
   "cell_type": "code",
   "execution_count": 51,
   "id": "eab36c1f-633a-4b45-a304-4cc5f5916672",
   "metadata": {},
   "outputs": [
    {
     "name": "stdout",
     "output_type": "stream",
     "text": [
      "0\n",
      "1\n",
      "2\n",
      "3\n",
      "4\n",
      "5\n",
      "Finally finished!\n"
     ]
    }
   ],
   "source": [
    "for x in range(6):\n",
    "  print(x)\n",
    "else:\n",
    "  print(\"Finally finished!\")"
   ]
  },
  {
   "cell_type": "code",
   "execution_count": 52,
   "id": "ec88573e-973b-43b0-beb5-5f0cab1d0336",
   "metadata": {},
   "outputs": [
    {
     "name": "stdout",
     "output_type": "stream",
     "text": [
      "0\n",
      "1\n",
      "2\n"
     ]
    }
   ],
   "source": [
    "for x in range(6):\n",
    "  if x == 3: break\n",
    "  print(x)\n",
    "else:\n",
    "  print(\"Finally finished!\")"
   ]
  },
  {
   "cell_type": "markdown",
   "id": "e1d45974-5f2c-47c3-8fa4-369ef61bd258",
   "metadata": {},
   "source": [
    "## Nested Loops"
   ]
  },
  {
   "cell_type": "code",
   "execution_count": 53,
   "id": "4eecf0ec-aea0-4ca5-85a9-2ba417e718bd",
   "metadata": {},
   "outputs": [
    {
     "name": "stdout",
     "output_type": "stream",
     "text": [
      "red apple\n",
      "red banana\n",
      "red cherry\n",
      "big apple\n",
      "big banana\n",
      "big cherry\n",
      "tasty apple\n",
      "tasty banana\n",
      "tasty cherry\n"
     ]
    }
   ],
   "source": [
    "adj = [\"red\", \"big\", \"tasty\"]\n",
    "fruits = [\"apple\", \"banana\", \"cherry\"]\n",
    "\n",
    "for x in adj:\n",
    "  for y in fruits:\n",
    "    print(x, y)"
   ]
  },
  {
   "cell_type": "markdown",
   "id": "9e9b93f6-baa1-49da-97b8-c0aa68028da6",
   "metadata": {},
   "source": [
    "# While Loops"
   ]
  },
  {
   "cell_type": "code",
   "execution_count": 54,
   "id": "4f5005b0-9ee6-4fe5-afea-6cc1c8fa911b",
   "metadata": {},
   "outputs": [
    {
     "name": "stdout",
     "output_type": "stream",
     "text": [
      "Count is 0\n",
      "Count is 1\n",
      "Count is 2\n",
      "Count is 3\n",
      "Count is 4\n"
     ]
    }
   ],
   "source": [
    "count = 0\n",
    "while count < 5:\n",
    "    print(\"Count is\", count)\n",
    "    count += 1"
   ]
  },
  {
   "cell_type": "raw",
   "id": "a85f553d-2bb7-43d7-84f0-e7ba2fbeddd9",
   "metadata": {},
   "source": [
    "Repeats until condition becomes false."
   ]
  },
  {
   "cell_type": "code",
   "execution_count": 55,
   "id": "0c91d7c7-0dd9-45b6-83ba-5e9ad749c267",
   "metadata": {},
   "outputs": [
    {
     "name": "stdout",
     "output_type": "stream",
     "text": [
      "1\n",
      "2\n",
      "3\n",
      "4\n",
      "5\n"
     ]
    }
   ],
   "source": [
    "i = 1\n",
    "while i < 6:\n",
    "  print(i)\n",
    "  i += 1"
   ]
  },
  {
   "cell_type": "markdown",
   "id": "4f1fcf87-de76-404f-b040-ad9de4ef72ab",
   "metadata": {},
   "source": [
    "## The break Statement\n",
    "With the break statement we can stop the loop even if the while condition is true:"
   ]
  },
  {
   "cell_type": "code",
   "execution_count": 56,
   "id": "74c071d4-dafa-4028-b2f2-db12bf3f6f5f",
   "metadata": {},
   "outputs": [
    {
     "name": "stdout",
     "output_type": "stream",
     "text": [
      "1\n",
      "2\n",
      "3\n"
     ]
    }
   ],
   "source": [
    "i = 1\n",
    "while i < 6:\n",
    "  print(i)\n",
    "  if i == 3:\n",
    "    break\n",
    "  i += 1"
   ]
  },
  {
   "cell_type": "markdown",
   "id": "998ca695-446a-4868-9310-1867e2790a5c",
   "metadata": {},
   "source": [
    "## The continue Statement"
   ]
  },
  {
   "cell_type": "code",
   "execution_count": 60,
   "id": "7a6930e3-10c7-43f7-8160-b17289e230f4",
   "metadata": {},
   "outputs": [
    {
     "name": "stdout",
     "output_type": "stream",
     "text": [
      "1\n",
      "2\n",
      "4\n",
      "5\n",
      "6\n"
     ]
    }
   ],
   "source": [
    "i = 0\n",
    "while i < 6:\n",
    "  i += 1\n",
    "  if i == 3:\n",
    "    continue\n",
    "  print(i)"
   ]
  },
  {
   "cell_type": "markdown",
   "id": "5873bdcf-e7b0-4f4c-8bb1-c02b04904d62",
   "metadata": {},
   "source": [
    "## The else Statement"
   ]
  },
  {
   "cell_type": "code",
   "execution_count": 61,
   "id": "6c3c90df-77ef-4c5b-9898-5fd99af5e43d",
   "metadata": {},
   "outputs": [
    {
     "name": "stdout",
     "output_type": "stream",
     "text": [
      "1\n",
      "2\n",
      "3\n",
      "4\n",
      "5\n",
      "i is no longer less than 6\n"
     ]
    }
   ],
   "source": [
    "i = 1\n",
    "while i < 6:\n",
    "  print(i)\n",
    "  i += 1\n",
    "else:\n",
    "  print(\"i is no longer less than 6\")"
   ]
  },
  {
   "cell_type": "markdown",
   "id": "94b4663f-1e74-408f-bf6f-7b35c1f73571",
   "metadata": {},
   "source": [
    "## Match Statement\n",
    "Instead of writing many if..else statements, you can use the match statement.\n",
    "\n",
    "The match statement selects one of many code blocks to be executed.\n",
    "    \n",
    "match expression:\n",
    "  case x:\n",
    "    code block\n",
    "  case y:\n",
    "    code block\n",
    "  case z:\n",
    "    code block\n",
    "\n",
    "This is how it works:\n",
    "\n",
    "The match expression is evaluated once.\n",
    "The value of the expression is compared with the values of each case.\n",
    "If there is a match, the associated block of code is executed."
   ]
  },
  {
   "cell_type": "code",
   "execution_count": 62,
   "id": "de46f37b-0059-4e49-8fde-408359764fc7",
   "metadata": {},
   "outputs": [
    {
     "name": "stdout",
     "output_type": "stream",
     "text": [
      "Thursday\n"
     ]
    }
   ],
   "source": [
    "day = 4\n",
    "match day:\n",
    "  case 1:\n",
    "    print(\"Monday\")\n",
    "  case 2:\n",
    "    print(\"Tuesday\")\n",
    "  case 3:\n",
    "    print(\"Wednesday\")\n",
    "  case 4:\n",
    "    print(\"Thursday\")\n",
    "  case 5:\n",
    "    print(\"Friday\")\n",
    "  case 6:\n",
    "    print(\"Saturday\")\n",
    "  case 7:\n",
    "    print(\"Sunday\")\n"
   ]
  },
  {
   "cell_type": "code",
   "execution_count": 63,
   "id": "b84ec723-f33e-4691-9cfd-3b2faf2cb829",
   "metadata": {},
   "outputs": [
    {
     "name": "stdout",
     "output_type": "stream",
     "text": [
      "Looking forward to the Weekend\n"
     ]
    }
   ],
   "source": [
    "day = 4\n",
    "match day:\n",
    "  case 6:\n",
    "    print(\"Today is Saturday\")\n",
    "  case 7:\n",
    "    print(\"Today is Sunday\")\n",
    "  case _:\n",
    "    print(\"Looking forward to the Weekend\")"
   ]
  },
  {
   "cell_type": "code",
   "execution_count": 64,
   "id": "7bae67b3-7c0d-4bc5-bff1-4ba69f70b701",
   "metadata": {},
   "outputs": [
    {
     "name": "stdout",
     "output_type": "stream",
     "text": [
      "Today is a weekday\n"
     ]
    }
   ],
   "source": [
    "day = 4\n",
    "match day:\n",
    "  case 1 | 2 | 3 | 4 | 5:\n",
    "    print(\"Today is a weekday\")\n",
    "  case 6 | 7:\n",
    "    print(\"I love weekends!\")"
   ]
  },
  {
   "cell_type": "code",
   "execution_count": 65,
   "id": "bbab88d3-c900-48ca-8036-86d09b8a8587",
   "metadata": {},
   "outputs": [
    {
     "name": "stdout",
     "output_type": "stream",
     "text": [
      "A weekday in May\n"
     ]
    }
   ],
   "source": [
    "month = 5\n",
    "day = 4\n",
    "match day:\n",
    "  case 1 | 2 | 3 | 4 | 5 if month == 4:\n",
    "    print(\"A weekday in April\")\n",
    "  case 1 | 2 | 3 | 4 | 5 if month == 5:\n",
    "    print(\"A weekday in May\")\n",
    "  case _:\n",
    "    print(\"No match\")"
   ]
  },
  {
   "cell_type": "markdown",
   "id": "efc61c5f-3cf4-4291-85e7-6e1ccab9c2e9",
   "metadata": {},
   "source": [
    "# Automating File Processing"
   ]
  },
  {
   "cell_type": "code",
   "execution_count": 66,
   "id": "43bf0d96-b39b-4cd6-a66a-f6cb6ee33ada",
   "metadata": {},
   "outputs": [
    {
     "name": "stdout",
     "output_type": "stream",
     "text": [
      "Processing report1.txt\n",
      "Processing report2.txt\n",
      "Processing report3.txt\n"
     ]
    }
   ],
   "source": [
    "import os\n",
    "\n",
    "files = [\"report1.txt\", \"report2.txt\", \"report3.txt\"]\n",
    "for file in files:\n",
    "    print(\"Processing\", file)"
   ]
  },
  {
   "cell_type": "markdown",
   "id": "92e1c58c-27ae-4e7f-a607-35032a06824b",
   "metadata": {},
   "source": [
    "# Example: Auto-Rename Files"
   ]
  },
  {
   "cell_type": "code",
   "execution_count": 67,
   "id": "fa65f6b6-88cf-48cc-91a7-774bee969772",
   "metadata": {},
   "outputs": [],
   "source": [
    "import os\n",
    "\n",
    "for i, filename in enumerate(os.listdir(\"my_folder\")):\n",
    "    new_name = f\"file_{i+1}.txt\"\n",
    "    os.rename(os.path.join(\"my_folder\", filename),\n",
    "              os.path.join(\"my_folder\", new_name))"
   ]
  },
  {
   "cell_type": "markdown",
   "id": "24d4ea95-f74f-4efb-91f7-1de59cd04a97",
   "metadata": {},
   "source": [
    "# In-Class Activity"
   ]
  },
  {
   "cell_type": "raw",
   "id": "8ea85d97-52be-413f-b57d-e5c98e084674",
   "metadata": {},
   "source": [
    " Task:\n",
    "\n",
    "Load expenses.csv.\n",
    "\n",
    "Loop through each expense.\n",
    "\n",
    "If amount > 30, print \"Alert: High expense detected!\".\n",
    "\n",
    "Count how many high expenses occur."
   ]
  },
  {
   "cell_type": "markdown",
   "id": "14bbee35-c5d0-43c5-8038-bd24c7ad8509",
   "metadata": {},
   "source": [
    "#  Common Mistakes"
   ]
  },
  {
   "cell_type": "raw",
   "id": "371f5dd1-bc90-40ea-ac57-945a3fbc6d72",
   "metadata": {},
   "source": [
    "Infinite loops → make sure conditions change.\n",
    "\n",
    "Wrong file paths → check folder location.\n",
    "\n",
    "Using = instead of == in conditions."
   ]
  },
  {
   "cell_type": "markdown",
   "id": "8b344357-fc2e-498f-a5e8-de9605c96b77",
   "metadata": {},
   "source": [
    "# Key Takeaways"
   ]
  },
  {
   "cell_type": "raw",
   "id": "9046bed2-93f2-46e3-a405-5912db822ef5",
   "metadata": {},
   "source": [
    "Loops repeat tasks; conditions control decisions.\n",
    "\n",
    "Python can easily automate repetitive work.\n",
    "\n",
    "Start small, then expand to larger workflows."
   ]
  },
  {
   "cell_type": "code",
   "execution_count": null,
   "id": "908bff9a-e78b-4615-84ae-1e71029a68f1",
   "metadata": {},
   "outputs": [],
   "source": []
  },
  {
   "cell_type": "code",
   "execution_count": null,
   "id": "753ac797-6891-4778-8dcd-d2e58348c24f",
   "metadata": {},
   "outputs": [],
   "source": []
  },
  {
   "cell_type": "code",
   "execution_count": null,
   "id": "5705cf17-f1e3-4e33-95b7-6cbc252bd0a6",
   "metadata": {},
   "outputs": [],
   "source": []
  },
  {
   "cell_type": "code",
   "execution_count": null,
   "id": "c5255a0b-6dc2-493f-a7a1-5e8a9772755d",
   "metadata": {},
   "outputs": [],
   "source": []
  }
 ],
 "metadata": {
  "kernelspec": {
   "display_name": "Python [conda env:base] *",
   "language": "python",
   "name": "conda-base-py"
  },
  "language_info": {
   "codemirror_mode": {
    "name": "ipython",
    "version": 3
   },
   "file_extension": ".py",
   "mimetype": "text/x-python",
   "name": "python",
   "nbconvert_exporter": "python",
   "pygments_lexer": "ipython3",
   "version": "3.12.7"
  }
 },
 "nbformat": 4,
 "nbformat_minor": 5
}
