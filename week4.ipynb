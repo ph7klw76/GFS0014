{
 "cells": [
  {
   "cell_type": "markdown",
   "id": "84286344-ea34-4932-9c02-e01049ff18aa",
   "metadata": {
    "editable": true,
    "slideshow": {
     "slide_type": ""
    },
    "tags": []
   },
   "source": [
    "# Simple Automation with Python"
   ]
  },
  {
   "cell_type": "raw",
   "id": "c31342bf-2a69-463b-9f2b-dcc09dfefb55",
   "metadata": {},
   "source": [
    "By the end of this week, students will:\n",
    "\n",
    "Understand loops (for, while) and conditional statements (if, else).\n",
    "\n",
    "Automate simple tasks with Python.\n",
    "\n",
    "Work with files automatically.\n",
    "\n",
    "Create scripts to process multiple items without manual effort."
   ]
  },
  {
   "cell_type": "markdown",
   "id": "98ae67e9-c0ff-44f8-9791-c1bfb687fe7a",
   "metadata": {},
   "source": [
    "# Why Automate?"
   ]
  },
  {
   "cell_type": "raw",
   "id": "a74ee53f-5989-4b1a-b53c-dfca0aa36c2a",
   "metadata": {},
   "source": [
    "Saves time.\n",
    "\n",
    "Reduces manual mistakes.\n",
    "\n",
    "Useful for:\n",
    "\n",
    "Renaming multiple files\n",
    "\n",
    "Processing large datasets\n",
    "\n",
    "Sending automatic reports"
   ]
  },
  {
   "cell_type": "markdown",
   "id": "460ef62f-3bea-408d-8870-756be3417810",
   "metadata": {},
   "source": [
    "# Conditional Statements"
   ]
  },
  {
   "cell_type": "code",
   "execution_count": 1,
   "id": "ecc20298-74fb-4286-b1f1-183f7dd83e7c",
   "metadata": {},
   "outputs": [
    {
     "name": "stdout",
     "output_type": "stream",
     "text": [
      "x is greater than 5\n"
     ]
    }
   ],
   "source": [
    "x = 10\n",
    "if x > 5:\n",
    "    print(\"x is greater than 5\")\n",
    "else:\n",
    "    print(\"x is not greater than 5\")"
   ]
  },
  {
   "cell_type": "raw",
   "id": "815aff8a-acb1-4d91-a7e3-a6e89db4941e",
   "metadata": {},
   "source": [
    "If → check a condition.\n",
    "\n",
    "Else → do something if it’s not true.\n",
    "\n",
    "Elif → check another condition."
   ]
  },
  {
   "cell_type": "markdown",
   "id": "719059e1-01b7-40f0-b483-deacd0380d80",
   "metadata": {},
   "source": [
    "# For Loops"
   ]
  },
  {
   "cell_type": "code",
   "execution_count": 2,
   "id": "04a19632-b16a-430d-90d1-cfaff5d033fe",
   "metadata": {},
   "outputs": [
    {
     "name": "stdout",
     "output_type": "stream",
     "text": [
      "apple\n",
      "banana\n",
      "cherry\n"
     ]
    }
   ],
   "source": [
    "fruits = [\"apple\", \"banana\", \"cherry\"]\n",
    "for fruit in fruits:\n",
    "    print(fruit)"
   ]
  },
  {
   "cell_type": "raw",
   "id": "c082d7d6-c162-446e-9c83-01aa177d311c",
   "metadata": {},
   "source": [
    "Loops through items in a list."
   ]
  },
  {
   "cell_type": "markdown",
   "id": "9e9b93f6-baa1-49da-97b8-c0aa68028da6",
   "metadata": {},
   "source": [
    "# While Loops"
   ]
  },
  {
   "cell_type": "code",
   "execution_count": 3,
   "id": "4f5005b0-9ee6-4fe5-afea-6cc1c8fa911b",
   "metadata": {},
   "outputs": [
    {
     "name": "stdout",
     "output_type": "stream",
     "text": [
      "Count is 0\n",
      "Count is 1\n",
      "Count is 2\n",
      "Count is 3\n",
      "Count is 4\n"
     ]
    }
   ],
   "source": [
    "count = 0\n",
    "while count < 5:\n",
    "    print(\"Count is\", count)\n",
    "    count += 1"
   ]
  },
  {
   "cell_type": "raw",
   "id": "a85f553d-2bb7-43d7-84f0-e7ba2fbeddd9",
   "metadata": {},
   "source": [
    "Repeats until condition becomes false."
   ]
  },
  {
   "cell_type": "markdown",
   "id": "efc61c5f-3cf4-4291-85e7-6e1ccab9c2e9",
   "metadata": {},
   "source": [
    "# Automating File Processing"
   ]
  },
  {
   "cell_type": "code",
   "execution_count": 4,
   "id": "43bf0d96-b39b-4cd6-a66a-f6cb6ee33ada",
   "metadata": {},
   "outputs": [
    {
     "name": "stdout",
     "output_type": "stream",
     "text": [
      "Processing report1.txt\n",
      "Processing report2.txt\n",
      "Processing report3.txt\n"
     ]
    }
   ],
   "source": [
    "import os\n",
    "\n",
    "files = [\"report1.txt\", \"report2.txt\", \"report3.txt\"]\n",
    "for file in files:\n",
    "    print(\"Processing\", file)"
   ]
  },
  {
   "cell_type": "markdown",
   "id": "92e1c58c-27ae-4e7f-a607-35032a06824b",
   "metadata": {},
   "source": [
    "# Example: Auto-Rename Files"
   ]
  },
  {
   "cell_type": "code",
   "execution_count": 2,
   "id": "fa65f6b6-88cf-48cc-91a7-774bee969772",
   "metadata": {},
   "outputs": [],
   "source": [
    "import os\n",
    "\n",
    "for i, filename in enumerate(os.listdir(\"my_folder\")):\n",
    "    new_name = f\"file_{i+1}.txt\"\n",
    "    os.rename(os.path.join(\"my_folder\", filename),\n",
    "              os.path.join(\"my_folder\", new_name))"
   ]
  },
  {
   "cell_type": "markdown",
   "id": "24d4ea95-f74f-4efb-91f7-1de59cd04a97",
   "metadata": {},
   "source": [
    "# In-Class Activity"
   ]
  },
  {
   "cell_type": "raw",
   "id": "8ea85d97-52be-413f-b57d-e5c98e084674",
   "metadata": {},
   "source": [
    " Task:\n",
    "\n",
    "Load expenses.csv.\n",
    "\n",
    "Loop through each expense.\n",
    "\n",
    "If amount > 30, print \"Alert: High expense detected!\".\n",
    "\n",
    "Count how many high expenses occur."
   ]
  },
  {
   "cell_type": "markdown",
   "id": "14bbee35-c5d0-43c5-8038-bd24c7ad8509",
   "metadata": {},
   "source": [
    "#  Common Mistakes"
   ]
  },
  {
   "cell_type": "raw",
   "id": "371f5dd1-bc90-40ea-ac57-945a3fbc6d72",
   "metadata": {},
   "source": [
    "Infinite loops → make sure conditions change.\n",
    "\n",
    "Wrong file paths → check folder location.\n",
    "\n",
    "Using = instead of == in conditions."
   ]
  },
  {
   "cell_type": "markdown",
   "id": "8b344357-fc2e-498f-a5e8-de9605c96b77",
   "metadata": {},
   "source": [
    "# Key Takeaways"
   ]
  },
  {
   "cell_type": "raw",
   "id": "9046bed2-93f2-46e3-a405-5912db822ef5",
   "metadata": {},
   "source": [
    "Loops repeat tasks; conditions control decisions.\n",
    "\n",
    "Python can easily automate repetitive work.\n",
    "\n",
    "Start small, then expand to larger workflows."
   ]
  },
  {
   "cell_type": "code",
   "execution_count": null,
   "id": "908bff9a-e78b-4615-84ae-1e71029a68f1",
   "metadata": {},
   "outputs": [],
   "source": []
  },
  {
   "cell_type": "code",
   "execution_count": null,
   "id": "753ac797-6891-4778-8dcd-d2e58348c24f",
   "metadata": {},
   "outputs": [],
   "source": []
  },
  {
   "cell_type": "code",
   "execution_count": null,
   "id": "5705cf17-f1e3-4e33-95b7-6cbc252bd0a6",
   "metadata": {},
   "outputs": [],
   "source": []
  },
  {
   "cell_type": "code",
   "execution_count": null,
   "id": "c5255a0b-6dc2-493f-a7a1-5e8a9772755d",
   "metadata": {},
   "outputs": [],
   "source": []
  }
 ],
 "metadata": {
  "kernelspec": {
   "display_name": "Python [conda env:base] *",
   "language": "python",
   "name": "conda-base-py"
  },
  "language_info": {
   "codemirror_mode": {
    "name": "ipython",
    "version": 3
   },
   "file_extension": ".py",
   "mimetype": "text/x-python",
   "name": "python",
   "nbconvert_exporter": "python",
   "pygments_lexer": "ipython3",
   "version": "3.12.7"
  }
 },
 "nbformat": 4,
 "nbformat_minor": 5
}
