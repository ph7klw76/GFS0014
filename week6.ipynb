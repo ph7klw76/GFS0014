{
 "cells": [
  {
   "cell_type": "markdown",
   "id": "d8c02a53-045e-4e32-b92a-f26b93fa8a34",
   "metadata": {
    "editable": true,
    "slideshow": {
     "slide_type": ""
    },
    "tags": []
   },
   "source": [
    "# Problem Solving with Simulation"
   ]
  },
  {
   "cell_type": "raw",
   "id": "56f981a1-a197-42fe-90eb-7c85e9e81ca1",
   "metadata": {},
   "source": [
    "By the end of this week, students will:\n",
    "\n",
    "Understand what simulation is and why it’s used.\n",
    "\n",
    "Use Python’s random module to simulate events.\n",
    "\n",
    "Apply the Monte Carlo method for estimation.\n",
    "\n",
    "Solve simple probability-based problems with simulations."
   ]
  },
  {
   "cell_type": "markdown",
   "id": "ad77e682-f09c-45c5-99c8-df9aa1d40b46",
   "metadata": {},
   "source": [
    "# What is Simulation?"
   ]
  },
  {
   "cell_type": "raw",
   "id": "4b6649e3-13e5-4b7f-b451-e389a91a2cab",
   "metadata": {},
   "source": [
    "Definition: Using a computer model to mimic real-world processes.\n",
    "\n",
    "Helps when:\n",
    "\n",
    "Experiments are expensive or dangerous.\n",
    "\n",
    "The real system is too complex to study directly.\n",
    "\n",
    "Examples:\n",
    "\n",
    "Predicting weather\n",
    "\n",
    "Modeling traffic flow\n",
    "\n",
    "Estimating risk in finance"
   ]
  },
  {
   "cell_type": "markdown",
   "id": "570b599e-f181-4a60-b654-ad43e1720204",
   "metadata": {},
   "source": [
    "# Randomness in Python"
   ]
  },
  {
   "cell_type": "code",
   "execution_count": 1,
   "id": "d097f9bd-8a9b-4d34-a5f6-11193a2e7a32",
   "metadata": {},
   "outputs": [
    {
     "name": "stdout",
     "output_type": "stream",
     "text": [
      "6\n",
      "0.6050939740967819\n"
     ]
    }
   ],
   "source": [
    "import random\n",
    "\n",
    "print(random.randint(1, 6))   # Random integer between 1 and 6\n",
    "print(random.random())        # Random float between 0 and 1"
   ]
  },
  {
   "cell_type": "raw",
   "id": "1ce73ae8-8beb-427f-9b16-9dd28336723e",
   "metadata": {},
   "source": [
    "randint(a, b) → inclusive range.\n",
    "\n",
    "random() → float between 0 and 1."
   ]
  },
  {
   "cell_type": "markdown",
   "id": "63ec5045-d6ad-4cf7-b317-ec243f7438a6",
   "metadata": {},
   "source": [
    "# Coin Flip Simulation"
   ]
  },
  {
   "cell_type": "code",
   "execution_count": 2,
   "id": "9c45fb5d-9b3c-471d-ade0-790b0224ffee",
   "metadata": {},
   "outputs": [
    {
     "name": "stdout",
     "output_type": "stream",
     "text": [
      "Heads: 511 Tails: 489\n"
     ]
    }
   ],
   "source": [
    "import random\n",
    "\n",
    "flips = 1000\n",
    "heads = 0\n",
    "\n",
    "for _ in range(flips):\n",
    "    if random.choice([\"H\", \"T\"]) == \"H\":\n",
    "        heads += 1\n",
    "\n",
    "print(\"Heads:\", heads, \"Tails:\", flips - heads)"
   ]
  },
  {
   "cell_type": "markdown",
   "id": "a73e3a42-b712-4008-b25c-7f9278b8bad2",
   "metadata": {},
   "source": [
    "# Dice Roll Simulation"
   ]
  },
  {
   "cell_type": "code",
   "execution_count": 3,
   "id": "28ba58c6-25c3-409f-a926-19c198c47d21",
   "metadata": {},
   "outputs": [
    {
     "name": "stdout",
     "output_type": "stream",
     "text": [
      "Average roll: 3.546\n"
     ]
    }
   ],
   "source": [
    "rolls = [random.randint(1, 6) for _ in range(1000)]\n",
    "print(\"Average roll:\", sum(rolls) / len(rolls))"
   ]
  },
  {
   "cell_type": "markdown",
   "id": "efb95d78-c657-4229-bdb3-bd14c155f107",
   "metadata": {},
   "source": [
    "# Monte Carlo Method"
   ]
  },
  {
   "cell_type": "raw",
   "id": "947e33d0-e5cf-4641-b58b-23ffed6442e6",
   "metadata": {},
   "source": [
    "Named after the Monte Carlo casino.\n",
    "\n",
    "Uses repeated random sampling to estimate results.\n",
    "\n",
    "Example: Estimating π."
   ]
  },
  {
   "cell_type": "markdown",
   "id": "346fbb2b-d253-44a9-8bb2-9adcb3b1c503",
   "metadata": {},
   "source": [
    "# Monte Carlo: Estimating Pi"
   ]
  },
  {
   "cell_type": "code",
   "execution_count": 4,
   "id": "d88b74ae-7f79-4e7a-bd3d-e99af86c6003",
   "metadata": {},
   "outputs": [
    {
     "name": "stdout",
     "output_type": "stream",
     "text": [
      "Estimated Pi: 3.13752\n"
     ]
    }
   ],
   "source": [
    "import random\n",
    "\n",
    "inside_circle = 0\n",
    "total_points = 100000\n",
    "\n",
    "for _ in range(total_points):\n",
    "    x, y = random.random(), random.random()\n",
    "    if x**2 + y**2 <= 1:\n",
    "        inside_circle += 1\n",
    "\n",
    "pi_estimate = (inside_circle / total_points) * 4\n",
    "print(\"Estimated Pi:\", pi_estimate)"
   ]
  },
  {
   "cell_type": "markdown",
   "id": "5c5b5b41-eaaf-43aa-bf06-4b571c9d7495",
   "metadata": {},
   "source": [
    "# When to Use Simulation"
   ]
  },
  {
   "cell_type": "raw",
   "id": "9a1e7a74-3050-4d6f-b3bc-34f3c34f768a",
   "metadata": {},
   "source": [
    "When analytical solutions are too hard.\n",
    "\n",
    "When modeling real systems.\n",
    "\n",
    "For decision-making under uncertainty.\n",
    "\n"
   ]
  },
  {
   "cell_type": "markdown",
   "id": "213048e9-f5ae-4146-a5e2-c420c8ebf434",
   "metadata": {},
   "source": [
    "# In-Class Activity"
   ]
  },
  {
   "cell_type": "raw",
   "id": "c7aea874-ea26-45c5-8e25-70796db8a763",
   "metadata": {},
   "source": [
    "Simulate rolling two dice 10,000 times.\n",
    "\n",
    "Record how often each sum (2–12) appears.\n",
    "\n",
    "Display results as a bar chart."
   ]
  },
  {
   "cell_type": "markdown",
   "id": "5fa29a6f-2e7a-491d-9bfa-999654b4ceea",
   "metadata": {},
   "source": [
    "# Common Mistakes"
   ]
  },
  {
   "cell_type": "raw",
   "id": "564f6256-30dc-45d6-94b1-45c16e7e2d3e",
   "metadata": {},
   "source": [
    "Too few trials → inaccurate results.\n",
    "\n",
    "Forgetting randomness → always using the same seed.\n",
    "\n",
    "Misinterpreting results → simulations give estimates, not exact answers."
   ]
  },
  {
   "cell_type": "markdown",
   "id": "5f0eaea2-41e6-4da0-b3fe-137f175400ac",
   "metadata": {},
   "source": [
    "# Key Takeaways"
   ]
  },
  {
   "cell_type": "raw",
   "id": "f45429d6-5ecf-433f-a979-d5b2c7eb30a5",
   "metadata": {},
   "source": [
    "Simulations mimic real-world systems.\n",
    "\n",
    "Monte Carlo method is a powerful estimation tool.\n",
    "\n",
    "More trials = more accuracy."
   ]
  },
  {
   "cell_type": "markdown",
   "id": "f49f3a85-3d96-4fdf-ab48-cec37e05e64f",
   "metadata": {},
   "source": [
    "# Homework"
   ]
  },
  {
   "cell_type": "raw",
   "id": "0f4959c9-5bae-4820-960c-481308a5e879",
   "metadata": {},
   "source": [
    "Write a simulation to:\n",
    "\n",
    "Model 1,000 customers arriving at a store randomly between 9am–5pm.\n",
    "\n",
    "Count how many arrive before noon.\n",
    "\n",
    "Save results in a CSV file."
   ]
  }
 ],
 "metadata": {
  "kernelspec": {
   "display_name": "Python [conda env:base] *",
   "language": "python",
   "name": "conda-base-py"
  },
  "language_info": {
   "codemirror_mode": {
    "name": "ipython",
    "version": 3
   },
   "file_extension": ".py",
   "mimetype": "text/x-python",
   "name": "python",
   "nbconvert_exporter": "python",
   "pygments_lexer": "ipython3",
   "version": "3.12.7"
  }
 },
 "nbformat": 4,
 "nbformat_minor": 5
}
