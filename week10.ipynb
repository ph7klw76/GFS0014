{
 "cells": [
  {
   "cell_type": "markdown",
   "id": "3c51dca9-8a98-48f1-a20b-ce64a39f1982",
   "metadata": {
    "editable": true,
    "slideshow": {
     "slide_type": ""
    },
    "tags": []
   },
   "source": [
    "# Introduction to Graph Theory"
   ]
  },
  {
   "cell_type": "raw",
   "id": "2b6c3331-fc66-4059-a26e-02403d48792c",
   "metadata": {},
   "source": [
    "By the end of this lesson, students will:\n",
    "\n",
    "Understand what graphs are and where they are used.\n",
    "\n",
    "Know the difference between vertices, edges, directed, and weighted graphs.\n",
    "\n",
    "Represent graphs in Python.\n",
    "\n",
    "Perform basic graph operations and visualize them."
   ]
  },
  {
   "cell_type": "markdown",
   "id": "7b6c0275-011b-42a0-b684-412f4b1ceb89",
   "metadata": {},
   "source": [
    "# What is Graph Theory?"
   ]
  },
  {
   "cell_type": "markdown",
   "id": "7348b8b2-fdba-4d51-a367-4da655a6c7df",
   "metadata": {},
   "source": [
    "Definition: A field of mathematics studying relationships between objects.\n",
    "\n",
    "Graph = set of vertices (nodes) + edges (links).\n",
    "\n",
    "Used in:\n",
    "\n",
    "Social networks\n",
    "\n",
    "Transport routes\n",
    "\n",
    "Web page linking\n",
    "\n",
    "Supply chain optimization"
   ]
  },
  {
   "cell_type": "markdown",
   "id": "7f214a1e-3bba-484f-ba87-a578e94ce63f",
   "metadata": {},
   "source": [
    "# Key Terms"
   ]
  },
  {
   "cell_type": "raw",
   "id": "6a08cf4f-9eb2-4498-905c-33f98dcfabcf",
   "metadata": {},
   "source": [
    "Vertex (Node): Entity (e.g., a city, a person).\n",
    "\n",
    "Edge (Link): Connection between vertices.\n",
    "\n",
    "Directed Graph: Edges have direction.\n",
    "\n",
    "Weighted Graph: Edges have a numerical value (e.g., distance, cost).\n",
    "\n",
    "Path: Sequence of edges from one vertex to another."
   ]
  },
  {
   "cell_type": "markdown",
   "id": "aabc6623-f43f-404d-b4fd-db6fb7d424ec",
   "metadata": {},
   "source": [
    "#  Real-World Examples"
   ]
  },
  {
   "cell_type": "raw",
   "id": "f7803095-09ee-4f3a-9566-0ff1247d3d54",
   "metadata": {},
   "source": [
    "Facebook friend network → People as nodes, friendships as edges.\n",
    "\n",
    "Airline routes → Airports as nodes, flights as edges.\n",
    "\n",
    "Google Maps → Roads as edges, distances as weights."
   ]
  },
  {
   "cell_type": "markdown",
   "id": "5296fc17-f598-4ebf-9ef8-1f9589029dd9",
   "metadata": {},
   "source": [
    "# Using NetworkX for Graphs"
   ]
  },
  {
   "cell_type": "code",
   "execution_count": 1,
   "id": "a44b5e02-c1d5-46c2-80ee-a6db9332133a",
   "metadata": {},
   "outputs": [
    {
     "data": {
      "image/png": "[encoded data removed]",
      "text/plain": [
       "<Figure size 640x480 with 1 Axes>"
      ]
     },
     "metadata": {},
     "output_type": "display_data"
    }
   ],
   "source": [
    "import networkx as nx\n",
    "import matplotlib.pyplot as plt\n",
    "\n",
    "G = nx.Graph()\n",
    "G.add_edges_from([(\"A\", \"B\"), (\"A\", \"C\"), (\"B\", \"D\"), (\"C\", \"D\")])\n",
    "\n",
    "nx.draw(G, with_labels=True)\n",
    "plt.show()"
   ]
  },
  {
   "cell_type": "raw",
   "id": "c89bb623-0638-4417-9512-a8e5cb710bf3",
   "metadata": {},
   "source": [
    "NetworkX makes graph creation and visualization easy."
   ]
  },
  {
   "cell_type": "markdown",
   "id": "54cfc782-7473-4b08-b922-ece04cabbecf",
   "metadata": {},
   "source": [
    "# Traversing a Graph"
   ]
  },
  {
   "cell_type": "raw",
   "id": "aa2eff9d-60c7-4a04-91be-e8241a49e7de",
   "metadata": {},
   "source": [
    "Depth-First Search (DFS):"
   ]
  },
  {
   "cell_type": "code",
   "execution_count": 2,
   "id": "b0b259c9-b1e5-4410-a272-c1e29382fbcc",
   "metadata": {},
   "outputs": [
    {
     "data": {
      "text/plain": [
       "<networkx.classes.digraph.DiGraph at 0x232e036d940>"
      ]
     },
     "execution_count": 2,
     "metadata": {},
     "output_type": "execute_result"
    }
   ],
   "source": [
    "nx.dfs_tree(G, source=\"A\")"
   ]
  },
  {
   "cell_type": "markdown",
   "id": "494bb198-3e32-42a2-8747-1df9ee9e89e8",
   "metadata": {},
   "source": [
    "# Breadth-First Search (BFS):"
   ]
  },
  {
   "cell_type": "code",
   "execution_count": 3,
   "id": "cb9d48b8-42f6-4783-b43e-e94e36a5baa5",
   "metadata": {},
   "outputs": [
    {
     "data": {
      "text/plain": [
       "<networkx.classes.digraph.DiGraph at 0x232e02cfe30>"
      ]
     },
     "execution_count": 3,
     "metadata": {},
     "output_type": "execute_result"
    }
   ],
   "source": [
    "nx.bfs_tree(G, source=\"A\")"
   ]
  },
  {
   "cell_type": "markdown",
   "id": "88e05716-c098-4cbc-a8b5-c29a47c377dc",
   "metadata": {},
   "source": [
    "# Shortest Path Example"
   ]
  },
  {
   "cell_type": "code",
   "execution_count": 4,
   "id": "6d345ac0-4d8d-4914-977d-aa6b7b767331",
   "metadata": {},
   "outputs": [
    {
     "name": "stdout",
     "output_type": "stream",
     "text": [
      "Shortest path from A to D: ['A', 'B', 'D']\n"
     ]
    }
   ],
   "source": [
    "path = nx.shortest_path(G, source=\"A\", target=\"D\")\n",
    "print(\"Shortest path from A to D:\", path)"
   ]
  },
  {
   "cell_type": "markdown",
   "id": "06acfb1e-104c-42a9-b9d2-fd5942c5b41c",
   "metadata": {},
   "source": [
    "# Weighted Graph Example"
   ]
  },
  {
   "cell_type": "code",
   "execution_count": 5,
   "id": "5b1554f2-6cfa-496c-a0dd-bf42d58e48c5",
   "metadata": {},
   "outputs": [
    {
     "name": "stdout",
     "output_type": "stream",
     "text": [
      "['A', 'B', 'D']\n"
     ]
    }
   ],
   "source": [
    "G = nx.Graph()\n",
    "G.add_weighted_edges_from([\n",
    "    (\"A\", \"B\", 5),\n",
    "    (\"A\", \"C\", 3),\n",
    "    (\"B\", \"D\", 2),\n",
    "    (\"C\", \"D\", 4)\n",
    "])\n",
    "print(nx.shortest_path(G, \"A\", \"D\", weight=\"weight\"))\n"
   ]
  },
  {
   "cell_type": "markdown",
   "id": "c3ad2242-273b-4d58-8364-cbd233b81b26",
   "metadata": {},
   "source": [
    "# In-Class Activity"
   ]
  },
  {
   "cell_type": "raw",
   "id": "56d50188-1a45-4caa-b046-9760485668a8",
   "metadata": {},
   "source": [
    "Create a graph of 5 cities and the distances between them.\n",
    "\n",
    "Find:\n",
    "\n",
    "All routes from one city to another.\n",
    "\n",
    "The shortest route using weights."
   ]
  },
  {
   "cell_type": "markdown",
   "id": "4875f95c-987a-4fcf-ad84-100625f1f097",
   "metadata": {},
   "source": [
    "# Routing & Logistics (Shortest Path with costs)"
   ]
  },
  {
   "cell_type": "code",
   "execution_count": 6,
   "id": "533cda7d-691a-40f0-8dd2-1c2b29dab3fd",
   "metadata": {},
   "outputs": [
    {
     "name": "stdout",
     "output_type": "stream",
     "text": [
      "Best route: ['Warehouse', 'B', 'C', 'Store'] Total cost: 6\n"
     ]
    }
   ],
   "source": [
    "import networkx as nx\n",
    "\n",
    "G = nx.Graph()\n",
    "G.add_weighted_edges_from([\n",
    "    (\"Warehouse\", \"A\", 4), (\"Warehouse\", \"B\", 2),\n",
    "    (\"A\", \"C\", 5), (\"B\", \"C\", 1), (\"C\", \"Store\", 3)\n",
    "])\n",
    "\n",
    "cost = nx.shortest_path_length(G, \"Warehouse\", \"Store\", weight=\"weight\")\n",
    "route = nx.shortest_path(G, \"Warehouse\", \"Store\", weight=\"weight\")\n",
    "print(\"Best route:\", route, \"Total cost:\", cost)"
   ]
  },
  {
   "cell_type": "markdown",
   "id": "8018dbac-d85a-4676-b930-153681858bce",
   "metadata": {},
   "source": [
    "# Find the Influencers” (Centrality in Social Networks)"
   ]
  },
  {
   "cell_type": "code",
   "execution_count": 7,
   "id": "5e9b4169-7054-4c16-af43-33ee40f98cc8",
   "metadata": {},
   "outputs": [
    {
     "name": "stdout",
     "output_type": "stream",
     "text": [
      "Top by degree: Chen 0.6\n",
      "Top by betweenness: Dee 0.333\n"
     ]
    }
   ],
   "source": [
    "import networkx as nx\n",
    "\n",
    "G = nx.Graph()\n",
    "G.add_edges_from([\n",
    "    (\"Ali\",\"Bea\"),(\"Ali\",\"Chen\"),(\"Bea\",\"Dee\"),(\"Chen\",\"Dee\"),\n",
    "    (\"Dee\",\"Eka\"),(\"Eka\",\"Farah\"),(\"Chen\",\"Farah\")\n",
    "])\n",
    "\n",
    "# Degree and betweenness centrality\n",
    "deg = nx.degree_centrality(G)\n",
    "btw = nx.betweenness_centrality(G)\n",
    "\n",
    "print(\"Top by degree:\", max(deg, key=deg.get), round(max(deg.values()),3))\n",
    "print(\"Top by betweenness:\", max(btw, key=btw.get), round(max(btw.values()),3))"
   ]
  },
  {
   "cell_type": "markdown",
   "id": "741d8d60-a520-4533-95a4-93d956e25ff7",
   "metadata": {},
   "source": [
    "# Ranking Websites/Pages (PageRank)"
   ]
  },
  {
   "cell_type": "code",
   "execution_count": 8,
   "id": "bd2c75a5-e39d-4633-a8bc-3c5203952031",
   "metadata": {},
   "outputs": [
    {
     "name": "stdout",
     "output_type": "stream",
     "text": [
      "Top pages by PageRank: [('Products', 0.2702687786388718), ('Blog', 0.2702687786388718), ('Home', 0.22525600167696247), ('Checkout', 0.17453550757545708), ('About', 0.05967093346983711)]\n"
     ]
    }
   ],
   "source": [
    "import networkx as nx\n",
    "\n",
    "web = nx.DiGraph()\n",
    "web.add_edges_from([\n",
    "    (\"Home\",\"Products\"),(\"Products\",\"Checkout\"),(\"Blog\",\"Products\"),\n",
    "    (\"Home\",\"Blog\"),(\"Blog\",\"Home\"),(\"Products\",\"Blog\"),(\"About\",\"Home\")\n",
    "])\n",
    "\n",
    "pr = nx.pagerank(web, alpha=0.85)\n",
    "print(\"Top pages by PageRank:\", sorted(pr.items(), key=lambda x: -x[1]))"
   ]
  },
  {
   "cell_type": "markdown",
   "id": "51470323-2766-4101-a4ad-a2b1ddf85577",
   "metadata": {},
   "source": [
    "# Key Takeaways"
   ]
  },
  {
   "cell_type": "raw",
   "id": "ea45d07c-2283-4232-a450-163997134d49",
   "metadata": {},
   "source": [
    "Graph theory studies connections and relationships.\n",
    "\n",
    "Python’s NetworkX makes it easy to create, analyze, and visualize graphs.\n",
    "\n",
    "Graph algorithms can solve real-world routing, connection, and optimization problems.\n",
    "\n"
   ]
  },
  {
   "cell_type": "markdown",
   "id": "4400447b-5157-44ee-b7d5-0ab08248bd69",
   "metadata": {},
   "source": [
    "# Homework"
   ]
  },
  {
   "cell_type": "raw",
   "id": "2cbfbd9c-a607-4fc0-b1e3-cf1ec4bd068b",
   "metadata": {
    "editable": true,
    "slideshow": {
     "slide_type": ""
    },
    "tags": []
   },
   "source": [
    "Build a graph representing a public transportation system (bus/train network).\n",
    "\n",
    "Calculate:\n",
    "\n",
    "Shortest route between two stops.\n",
    "\n",
    "Number of connections each stop has.\n",
    "\n",
    "Visualize the graph with labels."
   ]
  },
  {
   "cell_type": "code",
   "execution_count": null,
   "id": "0a456b13-db95-4496-90c0-0e6a7c8c04e7",
   "metadata": {},
   "outputs": [],
   "source": []
  },
  {
   "cell_type": "code",
   "execution_count": null,
   "id": "09c0a6bd-7fcc-40d0-a1c8-0c942aae148c",
   "metadata": {},
   "outputs": [],
   "source": []
  }
 ],
 "metadata": {
  "kernelspec": {
   "display_name": "Python [conda env:base] *",
   "language": "python",
   "name": "conda-base-py"
  },
  "language_info": {
   "codemirror_mode": {
    "name": "ipython",
    "version": 3
   },
   "file_extension": ".py",
   "mimetype": "text/x-python",
   "name": "python",
   "nbconvert_exporter": "python",
   "pygments_lexer": "ipython3",
   "version": "3.12.7"
  }
 },
 "nbformat": 4,
 "nbformat_minor": 5
}
