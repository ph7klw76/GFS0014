{
 "cells": [
  {
   "cell_type": "markdown",
   "id": "04aba31b-4d07-4b37-8ed7-0cb6bf785cb5",
   "metadata": {
    "editable": true,
    "slideshow": {
     "slide_type": ""
    },
    "tags": []
   },
   "source": [
    "# Working with APIs"
   ]
  },
  {
   "cell_type": "raw",
   "id": "ae8c6372-98a3-4369-b531-b8be78cd1f69",
   "metadata": {},
   "source": [
    "By the end of this week, students will:\n",
    "\n",
    "Understand what APIs are and how they provide data.\n",
    "\n",
    "Make API requests using Python.\n",
    "\n",
    "Retrieve and process JSON data.\n",
    "\n",
    "Use API data in basic analysis and visualization."
   ]
  },
  {
   "cell_type": "markdown",
   "id": "e0782efd-abe3-4a24-af00-f59053baa859",
   "metadata": {},
   "source": [
    "# What is an API?"
   ]
  },
  {
   "cell_type": "raw",
   "id": "e45e5688-4c4c-4494-99ec-3a513bdad849",
   "metadata": {},
   "source": [
    "API = Application Programming Interface\n",
    "\n",
    "Allows applications to talk to each other.\n",
    "\n",
    "Examples:\n",
    "\n",
    "Weather apps fetching live forecasts.\n",
    "\n",
    "Stock trackers getting market prices.\n",
    "\n",
    "Social media dashboards showing engagement."
   ]
  },
  {
   "cell_type": "markdown",
   "id": "a8caf9b1-4a75-4415-8ce0-c45821fc719c",
   "metadata": {},
   "source": [
    "# How APIs Work"
   ]
  },
  {
   "cell_type": "raw",
   "id": "6e757f85-e3ea-4375-883a-754a204867fd",
   "metadata": {},
   "source": [
    "You send a request to the API.\n",
    "\n",
    "The API processes it and sends back a response.\n",
    "\n",
    "The response is usually in JSON format."
   ]
  },
  {
   "cell_type": "markdown",
   "id": "0c0375c2-9587-43db-b60f-92be2348fb61",
   "metadata": {},
   "source": [
    "# Making an API Request in Python"
   ]
  },
  {
   "cell_type": "code",
   "execution_count": 1,
   "id": "877adfc4-e1a2-4576-9704-a78de26e2385",
   "metadata": {
    "execution": {
     "iopub.execute_input": "2025-09-22T15:21:39.549560Z",
     "iopub.status.busy": "2025-09-22T15:21:39.549042Z",
     "iopub.status.idle": "2025-09-22T15:21:39.647615Z",
     "shell.execute_reply": "2025-09-22T15:21:39.646614Z"
    }
   },
   "outputs": [
    {
     "name": "stdout",
     "output_type": "stream",
     "text": [
      "Failed to fetch exchange rates: HTTPSConnectionPool(host='api.exchangerate-api.com', port=443): Max retries exceeded with url: /v4/latest/USD (Caused by ProxyError('Unable to connect to proxy', OSError('Tunnel connection failed: 403 Forbidden')))\n"
     ]
    }
   ],
   "source": [
    "import requests\n",
    "\n",
    "url = \"https://api.exchangerate-api.com/v4/latest/USD\"\n",
    "try:\n",
    "    response = requests.get(url, timeout=10)\n",
    "    response.raise_for_status()\n",
    "    data = response.json()\n",
    "    print(data)\n",
    "except requests.RequestException as exc:\n",
    "    print(f\"Failed to fetch exchange rates: {exc}\")\n",
    "    data = None\n"
   ]
  },
  {
   "cell_type": "raw",
   "id": "2aee923a-f269-4326-9cb1-239dbf832e88",
   "metadata": {},
   "source": [
    "requests.get() → makes the request.\n",
    "\n",
    ".json() → turns response into a Python dictionary."
   ]
  },
  {
   "cell_type": "markdown",
   "id": "bbc0d3ca-3cc6-4592-b4fd-6987793994ba",
   "metadata": {},
   "source": [
    "# Working with JSON Data"
   ]
  },
  {
   "cell_type": "code",
   "execution_count": 2,
   "id": "35c40d73-cf8a-4081-b292-cc1c0fe70b94",
   "metadata": {
    "execution": {
     "iopub.execute_input": "2025-09-22T15:21:39.651837Z",
     "iopub.status.busy": "2025-09-22T15:21:39.651464Z",
     "iopub.status.idle": "2025-09-22T15:21:39.657838Z",
     "shell.execute_reply": "2025-09-22T15:21:39.656586Z"
    }
   },
   "outputs": [
    {
     "name": "stdout",
     "output_type": "stream",
     "text": [
      "Exchange rate data unavailable; skipping EUR lookup.\n"
     ]
    }
   ],
   "source": [
    "if data is not None and \"rates\" in data:\n",
    "    print(data[\"rates\"].get(\"EUR\"))  # USD to EUR rate\n",
    "else:\n",
    "    print(\"Exchange rate data unavailable; skipping EUR lookup.\")\n"
   ]
  },
  {
   "cell_type": "markdown",
   "id": "92a5cca2-2c41-4741-9a91-e455192b49d6",
   "metadata": {},
   "source": [
    "#  Using API Data in Pandas"
   ]
  },
  {
   "cell_type": "code",
   "execution_count": 3,
   "id": "615e30dc-c04d-4d98-ba1d-2dac5a90f1c7",
   "metadata": {
    "execution": {
     "iopub.execute_input": "2025-09-22T15:21:39.661282Z",
     "iopub.status.busy": "2025-09-22T15:21:39.660929Z",
     "iopub.status.idle": "2025-09-22T15:21:40.349581Z",
     "shell.execute_reply": "2025-09-22T15:21:40.348414Z"
    }
   },
   "outputs": [
    {
     "name": "stdout",
     "output_type": "stream",
     "text": [
      "Exchange rate data unavailable; skipping DataFrame creation.\n"
     ]
    }
   ],
   "source": [
    "import pandas as pd\n",
    "\n",
    "if data is not None and \"rates\" in data:\n",
    "    rates = data[\"rates\"]\n",
    "    df = pd.DataFrame(list(rates.items()), columns=[\"Currency\", \"Rate\"])\n",
    "    print(df.head())\n",
    "else:\n",
    "    print(\"Exchange rate data unavailable; skipping DataFrame creation.\")\n"
   ]
  },
  {
   "cell_type": "markdown",
   "id": "db26d1b3-9008-4bd2-8c32-4a9403c5b5ec",
   "metadata": {},
   "source": [
    "# Slide 9 – In-Class Activity"
   ]
  },
  {
   "cell_type": "raw",
   "id": "5b7015f1-6a5a-45ca-8701-96d89b702026",
   "metadata": {},
   "source": [
    "Use the https://api.exchangerate-api.com/v4/latest/USD API.\n",
    "\n",
    "Get currency exchange rates.\n",
    "\n",
    "Find the top 5 strongest currencies against USD.\n",
    "\n",
    "Plot them in a bar chart."
   ]
  },
  {
   "cell_type": "markdown",
   "id": "88856131-8b17-4d9c-b6bb-b843f8693a43",
   "metadata": {},
   "source": [
    "# Common Mistakes"
   ]
  },
  {
   "cell_type": "raw",
   "id": "1f0b2d6f-96fc-46f6-a52c-b54350398059",
   "metadata": {},
   "source": [
    "Forgetting to sign up for an API key (for APIs that require it).\n",
    "\n",
    "Hitting rate limits (too many requests).\n",
    "\n",
    "Not checking for errors in responses:"
   ]
  },
  {
   "cell_type": "markdown",
   "id": "6d8080fc-5a3b-4e0a-8e99-60320e5480bc",
   "metadata": {},
   "source": [
    "#  Key Takeaways"
   ]
  },
  {
   "cell_type": "markdown",
   "id": "efee3499-962d-4e70-aed6-7f3f1ca73541",
   "metadata": {
    "editable": true,
    "slideshow": {
     "slide_type": ""
    },
    "tags": []
   },
   "source": [
    "APIs let you get fresh, real-world data.\n",
    "\n",
    "JSON is the most common format.\n",
    "\n",
    "Python’s requests and pandas make APIs easy to use.\n",
    "\n"
   ]
  },
  {
   "cell_type": "code",
   "execution_count": null,
   "id": "3b932b78-7193-4c3b-9a05-c01955762071",
   "metadata": {},
   "outputs": [],
   "source": []
  },
  {
   "cell_type": "code",
   "execution_count": null,
   "id": "11b0c719-10ba-41a4-97f6-0b120a462367",
   "metadata": {},
   "outputs": [],
   "source": []
  }
 ],
 "metadata": {
  "kernelspec": {
   "display_name": "Python [conda env:base] *",
   "language": "python",
   "name": "conda-base-py"
  },
  "language_info": {
   "codemirror_mode": {
    "name": "ipython",
    "version": 3
   },
   "file_extension": ".py",
   "mimetype": "text/x-python",
   "name": "python",
   "nbconvert_exporter": "python",
   "pygments_lexer": "ipython3",
   "version": "3.12.10"
  }
 },
 "nbformat": 4,
 "nbformat_minor": 5
}
