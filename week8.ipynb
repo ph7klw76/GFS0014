{
 "cells": [
  {
   "cell_type": "markdown",
   "id": "04aba31b-4d07-4b37-8ed7-0cb6bf785cb5",
   "metadata": {
    "editable": true,
    "slideshow": {
     "slide_type": ""
    },
    "tags": []
   },
   "source": [
    "# Working with APIs"
   ]
  },
  {
   "cell_type": "raw",
   "id": "ae8c6372-98a3-4369-b531-b8be78cd1f69",
   "metadata": {},
   "source": [
    "By the end of this week, students will:\n",
    "\n",
    "Understand what APIs are and how they provide data.\n",
    "\n",
    "Make API requests using Python.\n",
    "\n",
    "Retrieve and process JSON data.\n",
    "\n",
    "Use API data in basic analysis and visualization."
   ]
  },
  {
   "cell_type": "markdown",
   "id": "e0782efd-abe3-4a24-af00-f59053baa859",
   "metadata": {},
   "source": [
    "# What is an API?"
   ]
  },
  {
   "cell_type": "raw",
   "id": "e45e5688-4c4c-4494-99ec-3a513bdad849",
   "metadata": {},
   "source": [
    "API = Application Programming Interface\n",
    "\n",
    "Allows applications to talk to each other.\n",
    "\n",
    "Examples:\n",
    "\n",
    "Weather apps fetching live forecasts.\n",
    "\n",
    "Stock trackers getting market prices.\n",
    "\n",
    "Social media dashboards showing engagement."
   ]
  },
  {
   "cell_type": "markdown",
   "id": "a8caf9b1-4a75-4415-8ce0-c45821fc719c",
   "metadata": {},
   "source": [
    "# How APIs Work"
   ]
  },
  {
   "cell_type": "raw",
   "id": "6e757f85-e3ea-4375-883a-754a204867fd",
   "metadata": {},
   "source": [
    "You send a request to the API.\n",
    "\n",
    "The API processes it and sends back a response.\n",
    "\n",
    "The response is usually in JSON format."
   ]
  },
  {
   "cell_type": "markdown",
   "id": "0c0375c2-9587-43db-b60f-92be2348fb61",
   "metadata": {},
   "source": [
    "# Making an API Request in Python"
   ]
  },
  {
   "cell_type": "code",
   "execution_count": 7,
   "id": "877adfc4-e1a2-4576-9704-a78de26e2385",
   "metadata": {},
   "outputs": [
    {
     "name": "stdout",
     "output_type": "stream",
     "text": [
      "{'provider': 'https://www.exchangerate-api.com', 'WARNING_UPGRADE_TO_V6': 'https://www.exchangerate-api.com/docs/free', 'terms': 'https://www.exchangerate-api.com/terms', 'base': 'USD', 'date': '2025-08-14', 'time_last_updated': 1755129601, 'rates': {'USD': 1, 'AED': 3.67, 'AFN': 68.39, 'ALL': 83.19, 'AMD': 383.84, 'ANG': 1.79, 'AOA': 921.25, 'ARS': 1318, 'AUD': 1.53, 'AWG': 1.79, 'AZN': 1.7, 'BAM': 1.67, 'BBD': 2, 'BDT': 121.58, 'BGN': 1.67, 'BHD': 0.376, 'BIF': 2986.71, 'BMD': 1, 'BND': 1.28, 'BOB': 6.94, 'BRL': 5.4, 'BSD': 1, 'BTN': 87.5, 'BWP': 13.7, 'BYN': 3.22, 'BZD': 2, 'CAD': 1.38, 'CDF': 2901.84, 'CHF': 0.805, 'CLP': 956.71, 'CNY': 7.18, 'COP': 4023.42, 'CRC': 506.49, 'CUP': 24, 'CVE': 94.18, 'CZK': 20.89, 'DJF': 177.72, 'DKK': 6.37, 'DOP': 61.28, 'DZD': 129.87, 'EGP': 48.35, 'ERN': 15, 'ETB': 140.09, 'EUR': 0.854, 'FJD': 2.25, 'FKP': 0.737, 'FOK': 6.37, 'GBP': 0.737, 'GEL': 2.72, 'GGP': 0.737, 'GHS': 10.99, 'GIP': 0.737, 'GMD': 72.9, 'GNF': 8694.65, 'GTQ': 7.68, 'GYD': 209.42, 'HKD': 7.85, 'HNL': 26.27, 'HRK': 6.44, 'HTG': 130.96, 'HUF': 337.5, 'IDR': 16145.03, 'ILS': 3.39, 'IMP': 0.737, 'INR': 87.5, 'IQD': 1311.77, 'IRR': 42264.58, 'ISK': 122.24, 'JEP': 0.737, 'JMD': 160.32, 'JOD': 0.709, 'JPY': 147.31, 'KES': 129.32, 'KGS': 87.39, 'KHR': 4014.52, 'KID': 1.53, 'KMF': 420.19, 'KRW': 1378.53, 'KWD': 0.306, 'KYD': 0.833, 'KZT': 538.64, 'LAK': 21708.91, 'LBP': 89500, 'LKR': 300.9, 'LRD': 200.99, 'LSL': 17.51, 'LYD': 5.44, 'MAD': 9.01, 'MDL': 16.74, 'MGA': 4408.04, 'MKD': 52.8, 'MMK': 2103.71, 'MNT': 3620.23, 'MOP': 8.09, 'MRU': 40.06, 'MUR': 45.44, 'MVR': 15.47, 'MWK': 1740.89, 'MXN': 18.62, 'MYR': 4.21, 'MZN': 63.78, 'NAD': 17.51, 'NGN': 1535.61, 'NIO': 36.85, 'NOK': 10.19, 'NPR': 140, 'NZD': 1.67, 'OMR': 0.384, 'PAB': 1, 'PEN': 3.53, 'PGK': 4.21, 'PHP': 56.68, 'PKR': 284.05, 'PLN': 3.63, 'PYG': 7490.24, 'QAR': 3.64, 'RON': 4.32, 'RSD': 100.05, 'RUB': 79.59, 'RWF': 1450.2, 'SAR': 3.75, 'SBD': 8.29, 'SCR': 14.78, 'SDG': 544.82, 'SEK': 9.54, 'SGD': 1.28, 'SHP': 0.737, 'SLE': 23.23, 'SLL': 23234.29, 'SOS': 572.26, 'SRD': 37.5, 'SSP': 4618.55, 'STN': 20.93, 'SYP': 12952.62, 'SZL': 17.51, 'THB': 32.29, 'TJS': 9.44, 'TMT': 3.5, 'TND': 2.88, 'TOP': 2.36, 'TRY': 40.78, 'TTD': 6.78, 'TVD': 1.53, 'TWD': 29.93, 'TZS': 2516.23, 'UAH': 41.56, 'UGX': 3549.83, 'UYU': 40.1, 'UZS': 12545.97, 'VES': 134.48, 'VND': 26184.31, 'VUV': 119.27, 'WST': 2.68, 'XAF': 560.26, 'XCD': 2.7, 'XCG': 1.79, 'XDR': 0.729, 'XOF': 560.26, 'XPF': 101.92, 'YER': 240.58, 'ZAR': 17.51, 'ZMW': 23.1, 'ZWL': 26.77}}\n"
     ]
    }
   ],
   "source": [
    "import requests\n",
    "\n",
    "url = \"https://api.exchangerate-api.com/v4/latest/USD\"\n",
    "response = requests.get(url)\n",
    "data = response.json()\n",
    "\n",
    "print(data)"
   ]
  },
  {
   "cell_type": "raw",
   "id": "2aee923a-f269-4326-9cb1-239dbf832e88",
   "metadata": {},
   "source": [
    "requests.get() → makes the request.\n",
    "\n",
    ".json() → turns response into a Python dictionary."
   ]
  },
  {
   "cell_type": "markdown",
   "id": "bbc0d3ca-3cc6-4592-b4fd-6987793994ba",
   "metadata": {},
   "source": [
    "# Working with JSON Data"
   ]
  },
  {
   "cell_type": "code",
   "execution_count": 8,
   "id": "35c40d73-cf8a-4081-b292-cc1c0fe70b94",
   "metadata": {},
   "outputs": [
    {
     "name": "stdout",
     "output_type": "stream",
     "text": [
      "0.854\n"
     ]
    }
   ],
   "source": [
    "print(data[\"rates\"][\"EUR\"])  # USD to EUR rate"
   ]
  },
  {
   "cell_type": "markdown",
   "id": "92a5cca2-2c41-4741-9a91-e455192b49d6",
   "metadata": {},
   "source": [
    "#  Using API Data in Pandas"
   ]
  },
  {
   "cell_type": "code",
   "execution_count": 9,
   "id": "615e30dc-c04d-4d98-ba1d-2dac5a90f1c7",
   "metadata": {},
   "outputs": [
    {
     "name": "stdout",
     "output_type": "stream",
     "text": [
      "  Currency    Rate\n",
      "0      USD    1.00\n",
      "1      AED    3.67\n",
      "2      AFN   68.39\n",
      "3      ALL   83.19\n",
      "4      AMD  383.84\n"
     ]
    }
   ],
   "source": [
    "import pandas as pd\n",
    "\n",
    "rates = data[\"rates\"]\n",
    "df = pd.DataFrame(list(rates.items()), columns=[\"Currency\", \"Rate\"])\n",
    "print(df.head())"
   ]
  },
  {
   "cell_type": "markdown",
   "id": "db26d1b3-9008-4bd2-8c32-4a9403c5b5ec",
   "metadata": {},
   "source": [
    "# Slide 9 – In-Class Activity"
   ]
  },
  {
   "cell_type": "raw",
   "id": "5b7015f1-6a5a-45ca-8701-96d89b702026",
   "metadata": {},
   "source": [
    "Use the https://api.exchangerate-api.com/v4/latest/USD API.\n",
    "\n",
    "Get currency exchange rates.\n",
    "\n",
    "Find the top 5 strongest currencies against USD.\n",
    "\n",
    "Plot them in a bar chart."
   ]
  },
  {
   "cell_type": "markdown",
   "id": "88856131-8b17-4d9c-b6bb-b843f8693a43",
   "metadata": {},
   "source": [
    "# Common Mistakes"
   ]
  },
  {
   "cell_type": "raw",
   "id": "1f0b2d6f-96fc-46f6-a52c-b54350398059",
   "metadata": {},
   "source": [
    "Forgetting to sign up for an API key (for APIs that require it).\n",
    "\n",
    "Hitting rate limits (too many requests).\n",
    "\n",
    "Not checking for errors in responses:"
   ]
  },
  {
   "cell_type": "markdown",
   "id": "6d8080fc-5a3b-4e0a-8e99-60320e5480bc",
   "metadata": {},
   "source": [
    "#  Key Takeaways"
   ]
  },
  {
   "cell_type": "markdown",
   "id": "efee3499-962d-4e70-aed6-7f3f1ca73541",
   "metadata": {
    "editable": true,
    "slideshow": {
     "slide_type": ""
    },
    "tags": []
   },
   "source": [
    "APIs let you get fresh, real-world data.\n",
    "\n",
    "JSON is the most common format.\n",
    "\n",
    "Python’s requests and pandas make APIs easy to use.\n",
    "\n"
   ]
  }
 ],
 "metadata": {
  "kernelspec": {
   "display_name": "Python [conda env:base] *",
   "language": "python",
   "name": "conda-base-py"
  },
  "language_info": {
   "codemirror_mode": {
    "name": "ipython",
    "version": 3
   },
   "file_extension": ".py",
   "mimetype": "text/x-python",
   "name": "python",
   "nbconvert_exporter": "python",
   "pygments_lexer": "ipython3",
   "version": "3.12.7"
  }
 },
 "nbformat": 4,
 "nbformat_minor": 5
}
