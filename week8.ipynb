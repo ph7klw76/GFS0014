{
 "cells": [
  {
   "cell_type": "markdown",
   "id": "04aba31b-4d07-4b37-8ed7-0cb6bf785cb5",
   "metadata": {
    "editable": true,
    "slideshow": {
     "slide_type": ""
    },
    "tags": []
   },
   "source": [
    "# Working with APIs"
   ]
  },
  {
   "cell_type": "raw",
   "id": "ae8c6372-98a3-4369-b531-b8be78cd1f69",
   "metadata": {},
   "source": [
    "By the end of this week, students will:\n",
    "\n",
    "Understand what APIs are and how they provide data.\n",
    "\n",
    "Make API requests using Python.\n",
    "\n",
    "Retrieve and process JSON data.\n",
    "\n",
    "Use API data in basic analysis and visualization."
   ]
  },
  {
   "cell_type": "markdown",
   "id": "e0782efd-abe3-4a24-af00-f59053baa859",
   "metadata": {},
   "source": [
    "# What is an API?"
   ]
  },
  {
   "cell_type": "raw",
   "id": "e45e5688-4c4c-4494-99ec-3a513bdad849",
   "metadata": {},
   "source": [
    "API = Application Programming Interface\n",
    "\n",
    "Allows applications to talk to each other.\n",
    "\n",
    "Examples:\n",
    "\n",
    "Weather apps fetching live forecasts.\n",
    "\n",
    "Stock trackers getting market prices.\n",
    "\n",
    "Social media dashboards showing engagement."
   ]
  },
  {
   "cell_type": "markdown",
   "id": "a8caf9b1-4a75-4415-8ce0-c45821fc719c",
   "metadata": {},
   "source": [
    "# How APIs Work"
   ]
  },
  {
   "cell_type": "raw",
   "id": "6e757f85-e3ea-4375-883a-754a204867fd",
   "metadata": {},
   "source": [
    "You send a request to the API.\n",
    "\n",
    "The API processes it and sends back a response.\n",
    "\n",
    "The response is usually in JSON format."
   ]
  },
  {
   "cell_type": "markdown",
   "id": "0c0375c2-9587-43db-b60f-92be2348fb61",
   "metadata": {},
   "source": [
    "# Making an API Request in Python"
   ]
  },
  {
   "cell_type": "code",
   "execution_count": 1,
   "id": "877adfc4-e1a2-4576-9704-a78de26e2385",
   "metadata": {},
   "outputs": [
    {
     "name": "stdout",
     "output_type": "stream",
     "text": [
      "{'provider': 'https://www.exchangerate-api.com', 'WARNING_UPGRADE_TO_V6': 'https://www.exchangerate-api.com/docs/free', 'terms': 'https://www.exchangerate-api.com/terms', 'base': 'USD', 'date': '2025-09-22', 'time_last_updated': 1758499201, 'rates': {'USD': 1, 'AED': 3.67, 'AFN': 68.36, 'ALL': 82.53, 'AMD': 382.9, 'ANG': 1.79, 'AOA': 918.51, 'ARS': 1474.75, 'AUD': 1.52, 'AWG': 1.79, 'AZN': 1.7, 'BAM': 1.67, 'BBD': 2, 'BDT': 121.76, 'BGN': 1.67, 'BHD': 0.376, 'BIF': 2983.68, 'BMD': 1, 'BND': 1.29, 'BOB': 6.92, 'BRL': 5.33, 'BSD': 1, 'BTN': 88.17, 'BWP': 14.16, 'BYN': 3.36, 'BZD': 2, 'CAD': 1.38, 'CDF': 2841.75, 'CHF': 0.796, 'CLP': 956.74, 'CNY': 7.12, 'COP': 3889.57, 'CRC': 504.92, 'CUP': 24, 'CVE': 93.9, 'CZK': 20.7, 'DJF': 177.72, 'DKK': 6.36, 'DOP': 62.19, 'DZD': 129.75, 'EGP': 48.19, 'ERN': 15, 'ETB': 143.49, 'EUR': 0.852, 'FJD': 2.25, 'FKP': 0.742, 'FOK': 6.35, 'GBP': 0.742, 'GEL': 2.73, 'GGP': 0.742, 'GHS': 12.33, 'GIP': 0.742, 'GMD': 73.4, 'GNF': 8702.68, 'GTQ': 7.67, 'GYD': 209.21, 'HKD': 7.78, 'HNL': 26.26, 'HRK': 6.42, 'HTG': 130.98, 'HUF': 332.35, 'IDR': 16642.77, 'ILS': 3.33, 'IMP': 0.742, 'INR': 88.17, 'IQD': 1308.37, 'IRR': 43086.53, 'ISK': 121.78, 'JEP': 0.742, 'JMD': 160.64, 'JOD': 0.709, 'JPY': 148.03, 'KES': 129.16, 'KGS': 87.41, 'KHR': 4010.54, 'KID': 1.52, 'KMF': 418.97, 'KRW': 1396.88, 'KWD': 0.306, 'KYD': 0.833, 'KZT': 541.41, 'LAK': 21769.16, 'LBP': 89500, 'LKR': 302.11, 'LRD': 178.29, 'LSL': 17.34, 'LYD': 5.39, 'MAD': 9.04, 'MDL': 16.58, 'MGA': 4465.19, 'MKD': 52.5, 'MMK': 2103.77, 'MNT': 3587.15, 'MOP': 8.01, 'MRU': 40, 'MUR': 45.41, 'MVR': 15.43, 'MWK': 1734.82, 'MXN': 18.42, 'MYR': 4.21, 'MZN': 63.61, 'NAD': 17.34, 'NGN': 1496.97, 'NIO': 36.84, 'NOK': 9.94, 'NPR': 141.08, 'NZD': 1.71, 'OMR': 0.384, 'PAB': 1, 'PEN': 3.5, 'PGK': 4.21, 'PHP': 57.06, 'PKR': 283.77, 'PLN': 3.63, 'PYG': 7133.37, 'QAR': 3.64, 'RON': 4.32, 'RSD': 99.82, 'RUB': 83.53, 'RWF': 1451.54, 'SAR': 3.75, 'SBD': 8.29, 'SCR': 15.02, 'SDG': 458.44, 'SEK': 9.41, 'SGD': 1.29, 'SHP': 0.742, 'SLE': 23.27, 'SLL': 23268.53, 'SOS': 571.8, 'SRD': 38.06, 'SSP': 4671.4, 'STN': 20.86, 'SYP': 13111.16, 'SZL': 17.34, 'THB': 31.86, 'TJS': 9.44, 'TMT': 3.5, 'TND': 2.91, 'TOP': 2.36, 'TRY': 41.41, 'TTD': 6.79, 'TVD': 1.52, 'TWD': 30.23, 'TZS': 2462.78, 'UAH': 41.37, 'UGX': 3491.47, 'UYU': 40.17, 'UZS': 12229.96, 'VES': 166.58, 'VND': 26272.95, 'VUV': 118.35, 'WST': 2.69, 'XAF': 558.63, 'XCD': 2.7, 'XCG': 1.79, 'XDR': 0.729, 'XOF': 558.63, 'XPF': 101.63, 'YER': 239.78, 'ZAR': 17.34, 'ZMW': 23.63, 'ZWL': 26.57}}\n"
     ]
    }
   ],
   "source": [
    "import requests\n",
    "\n",
    "url = \"https://api.exchangerate-api.com/v4/latest/USD\"\n",
    "response = requests.get(url)\n",
    "data = response.json()\n",
    "\n",
    "print(data)"
   ]
  },
  {
   "cell_type": "raw",
   "id": "2aee923a-f269-4326-9cb1-239dbf832e88",
   "metadata": {},
   "source": [
    "requests.get() → makes the request.\n",
    "\n",
    ".json() → turns response into a Python dictionary."
   ]
  },
  {
   "cell_type": "markdown",
   "id": "bbc0d3ca-3cc6-4592-b4fd-6987793994ba",
   "metadata": {},
   "source": [
    "# Working with JSON Data"
   ]
  },
  {
   "cell_type": "code",
   "execution_count": 2,
   "id": "35c40d73-cf8a-4081-b292-cc1c0fe70b94",
   "metadata": {},
   "outputs": [
    {
     "name": "stdout",
     "output_type": "stream",
     "text": [
      "0.852\n"
     ]
    }
   ],
   "source": [
    "print(data[\"rates\"][\"EUR\"])  # USD to EUR rate"
   ]
  },
  {
   "cell_type": "markdown",
   "id": "92a5cca2-2c41-4741-9a91-e455192b49d6",
   "metadata": {},
   "source": [
    "#  Using API Data in Pandas"
   ]
  },
  {
   "cell_type": "code",
   "execution_count": 3,
   "id": "615e30dc-c04d-4d98-ba1d-2dac5a90f1c7",
   "metadata": {},
   "outputs": [
    {
     "name": "stdout",
     "output_type": "stream",
     "text": [
      "  Currency    Rate\n",
      "0      USD    1.00\n",
      "1      AED    3.67\n",
      "2      AFN   68.36\n",
      "3      ALL   82.53\n",
      "4      AMD  382.90\n"
     ]
    }
   ],
   "source": [
    "import pandas as pd\n",
    "\n",
    "rates = data[\"rates\"]\n",
    "df = pd.DataFrame(list(rates.items()), columns=[\"Currency\", \"Rate\"])\n",
    "print(df.head())"
   ]
  },
  {
   "cell_type": "markdown",
   "id": "db26d1b3-9008-4bd2-8c32-4a9403c5b5ec",
   "metadata": {},
   "source": [
    "# Slide 9 – In-Class Activity"
   ]
  },
  {
   "cell_type": "raw",
   "id": "5b7015f1-6a5a-45ca-8701-96d89b702026",
   "metadata": {},
   "source": [
    "Use the https://api.exchangerate-api.com/v4/latest/USD API.\n",
    "\n",
    "Get currency exchange rates.\n",
    "\n",
    "Find the top 5 strongest currencies against USD.\n",
    "\n",
    "Plot them in a bar chart."
   ]
  },
  {
   "cell_type": "markdown",
   "id": "88856131-8b17-4d9c-b6bb-b843f8693a43",
   "metadata": {},
   "source": [
    "# Common Mistakes"
   ]
  },
  {
   "cell_type": "raw",
   "id": "1f0b2d6f-96fc-46f6-a52c-b54350398059",
   "metadata": {},
   "source": [
    "Forgetting to sign up for an API key (for APIs that require it).\n",
    "\n",
    "Hitting rate limits (too many requests).\n",
    "\n",
    "Not checking for errors in responses:"
   ]
  },
  {
   "cell_type": "markdown",
   "id": "6d8080fc-5a3b-4e0a-8e99-60320e5480bc",
   "metadata": {},
   "source": [
    "#  Key Takeaways"
   ]
  },
  {
   "cell_type": "markdown",
   "id": "efee3499-962d-4e70-aed6-7f3f1ca73541",
   "metadata": {
    "editable": true,
    "slideshow": {
     "slide_type": ""
    },
    "tags": []
   },
   "source": [
    "APIs let you get fresh, real-world data.\n",
    "\n",
    "JSON is the most common format.\n",
    "\n",
    "Python’s requests and pandas make APIs easy to use.\n",
    "\n"
   ]
  },
  {
   "cell_type": "code",
   "execution_count": null,
   "id": "3b932b78-7193-4c3b-9a05-c01955762071",
   "metadata": {},
   "outputs": [],
   "source": []
  },
  {
   "cell_type": "code",
   "execution_count": null,
   "id": "11b0c719-10ba-41a4-97f6-0b120a462367",
   "metadata": {},
   "outputs": [],
   "source": []
  }
 ],
 "metadata": {
  "kernelspec": {
   "display_name": "Python [conda env:base] *",
   "language": "python",
   "name": "conda-base-py"
  },
  "language_info": {
   "codemirror_mode": {
    "name": "ipython",
    "version": 3
   },
   "file_extension": ".py",
   "mimetype": "text/x-python",
   "name": "python",
   "nbconvert_exporter": "python",
   "pygments_lexer": "ipython3",
   "version": "3.12.7"
  }
 },
 "nbformat": 4,
 "nbformat_minor": 5
}
