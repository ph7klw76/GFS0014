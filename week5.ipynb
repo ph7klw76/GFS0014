{
 "cells": [
  {
   "cell_type": "markdown",
   "id": "1fd708a0-f3ab-4528-a9aa-d7ddc25e27b4",
   "metadata": {
    "editable": true,
    "slideshow": {
     "slide_type": ""
    },
    "tags": []
   },
   "source": [
    "#  Introduction to Numerical Computing"
   ]
  },
  {
   "cell_type": "markdown",
   "id": "461dae9b-ebf1-42d0-b7eb-69f2a50a2afd",
   "metadata": {},
   "source": [
    "## Functions"
   ]
  },
  {
   "cell_type": "code",
   "execution_count": 21,
   "id": "988bd445-4b2f-433b-83e4-f1610f48a9f7",
   "metadata": {},
   "outputs": [],
   "source": [
    "def my_function():\n",
    "  print(\"Hello from a function\")"
   ]
  },
  {
   "cell_type": "code",
   "execution_count": 22,
   "id": "5cac0544-db8d-4c31-83eb-e7f7918e4281",
   "metadata": {},
   "outputs": [
    {
     "name": "stdout",
     "output_type": "stream",
     "text": [
      "Hello from a function\n"
     ]
    }
   ],
   "source": [
    "def my_function():\n",
    "  print(\"Hello from a function\")\n",
    "\n",
    "my_function()"
   ]
  },
  {
   "cell_type": "markdown",
   "id": "4d80791b-df67-40e5-983e-412f601105fb",
   "metadata": {},
   "source": [
    "def my_function(fname):\n",
    "  print(fname + \" Refsnes\")\n",
    "\n",
    "my_function(\"Emil\")\n",
    "my_function(\"Tobias\")\n",
    "my_function(\"Linus\")"
   ]
  },
  {
   "cell_type": "markdown",
   "id": "ca5362c2-1923-4f8d-94db-190fe8a945d0",
   "metadata": {},
   "source": [
    "## Number of Arguments\n",
    "By default, a function must be called with the correct number of arguments. Meaning that if your function expects 2 arguments, you have to call the function with 2 arguments, not more, and not less."
   ]
  },
  {
   "cell_type": "code",
   "execution_count": 23,
   "id": "07b90768-7ec5-4d80-8f28-cc9ac2ac0b7c",
   "metadata": {},
   "outputs": [
    {
     "name": "stdout",
     "output_type": "stream",
     "text": [
      "Emil Refsnes\n"
     ]
    }
   ],
   "source": [
    "def my_function(fname, lname):\n",
    "  print(fname + \" \" + lname)\n",
    "\n",
    "my_function(\"Emil\", \"Refsnes\")"
   ]
  },
  {
   "cell_type": "markdown",
   "id": "d74b17e7-9f89-4503-afd7-a44751314132",
   "metadata": {},
   "source": [
    "## Arbitrary Arguments, *args\n",
    "If you do not know how many arguments that will be passed into your function, add a * before the parameter name in the function definition.\n",
    "\n",
    "This way the function will receive a tuple of arguments, and can access the items accordingly:"
   ]
  },
  {
   "cell_type": "code",
   "execution_count": 24,
   "id": "5555037d-6cc3-4343-976e-e6e63ec1d5b4",
   "metadata": {},
   "outputs": [
    {
     "name": "stdout",
     "output_type": "stream",
     "text": [
      "The youngest child is Linus\n"
     ]
    }
   ],
   "source": [
    "def my_function(*kids):\n",
    "  print(\"The youngest child is \" + kids[2])\n",
    "\n",
    "my_function(\"Emil\", \"Tobias\", \"Linus\")"
   ]
  },
  {
   "cell_type": "markdown",
   "id": "75fe7f86-6f4b-4548-a93a-227b2b0b50f9",
   "metadata": {},
   "source": [
    "##Keyword Arguments\n",
    "You can also send arguments with the key = value syntax.\n",
    "\n",
    "This way the order of the arguments does not matter."
   ]
  },
  {
   "cell_type": "code",
   "execution_count": 26,
   "id": "f25e3d80-3f11-44ba-a8fe-154ca6bc7aef",
   "metadata": {},
   "outputs": [
    {
     "name": "stdout",
     "output_type": "stream",
     "text": [
      "The youngest child is Linus\n"
     ]
    }
   ],
   "source": [
    "def my_function(child3, child2, child1):\n",
    "  print(\"The youngest child is \" + child3)\n",
    "\n",
    "my_function(child1 = \"Emil\", child2 = \"Tobias\", child3 = \"Linus\")"
   ]
  },
  {
   "cell_type": "markdown",
   "id": "68dd9513-ab5a-40b6-9759-84f619f3e2df",
   "metadata": {},
   "source": [
    "## Arbitrary Keyword Arguments, **kwargs\n",
    "If you do not know how many keyword arguments that will be passed into your function, add two asterisk: ** before the parameter name in the function definition."
   ]
  },
  {
   "cell_type": "code",
   "execution_count": 27,
   "id": "fa55c235-11fb-4340-a96c-7dc4b1e384c7",
   "metadata": {},
   "outputs": [
    {
     "name": "stdout",
     "output_type": "stream",
     "text": [
      "His last name is Refsnes\n"
     ]
    }
   ],
   "source": [
    "def my_function(**kid):\n",
    "  print(\"His last name is \" + kid[\"lname\"])\n",
    "\n",
    "my_function(fname = \"Tobias\", lname = \"Refsnes\")"
   ]
  },
  {
   "cell_type": "markdown",
   "id": "4cd3b8f5-0c8d-4b4b-b88e-fd4bdfcf3d60",
   "metadata": {},
   "source": [
    "## Default Parameter Value\n",
    "The following example shows how to use a default parameter value.\n",
    "\n",
    "If we call the function without argument, it uses the default value:"
   ]
  },
  {
   "cell_type": "code",
   "execution_count": 28,
   "id": "614aaca1-a56d-48c2-90a8-8603cb31b0b9",
   "metadata": {},
   "outputs": [
    {
     "name": "stdout",
     "output_type": "stream",
     "text": [
      "I am from Sweden\n",
      "I am from India\n",
      "I am from Norway\n",
      "I am from Brazil\n"
     ]
    }
   ],
   "source": [
    "def my_function(country = \"Norway\"):\n",
    "  print(\"I am from \" + country)\n",
    "\n",
    "my_function(\"Sweden\")\n",
    "my_function(\"India\")\n",
    "my_function()\n",
    "my_function(\"Brazil\")"
   ]
  },
  {
   "cell_type": "markdown",
   "id": "abe54dba-dc1d-43f4-ba7c-62cad19df8af",
   "metadata": {},
   "source": [
    "## Passing a List as an Argument\n",
    "You can send any data types of argument to a function (string, number, list, dictionary etc.), and it will be treated as the same data type inside the function."
   ]
  },
  {
   "cell_type": "code",
   "execution_count": 29,
   "id": "b3516aa6-0abd-443b-9745-025c6329eda7",
   "metadata": {},
   "outputs": [
    {
     "name": "stdout",
     "output_type": "stream",
     "text": [
      "apple\n",
      "banana\n",
      "cherry\n"
     ]
    }
   ],
   "source": [
    "def my_function(food):\n",
    "  for x in food:\n",
    "    print(x)\n",
    "\n",
    "fruits = [\"apple\", \"banana\", \"cherry\"]\n",
    "\n",
    "my_function(fruits)"
   ]
  },
  {
   "cell_type": "markdown",
   "id": "e75bfbbb-df8e-4297-bab8-90940262d4ee",
   "metadata": {},
   "source": [
    "## Return Values"
   ]
  },
  {
   "cell_type": "code",
   "execution_count": 30,
   "id": "b941db73-6d34-4d4c-8b76-4d94e18337f6",
   "metadata": {},
   "outputs": [
    {
     "name": "stdout",
     "output_type": "stream",
     "text": [
      "15\n",
      "25\n",
      "45\n"
     ]
    }
   ],
   "source": [
    "def my_function(x):\n",
    "  return 5 * x\n",
    "\n",
    "print(my_function(3))\n",
    "print(my_function(5))\n",
    "print(my_function(9))"
   ]
  },
  {
   "cell_type": "raw",
   "id": "32fd8e18-3898-4922-aa34-b32c5858a175",
   "metadata": {},
   "source": [
    "By the end of this week, students will:\n",
    "\n",
    "Understand why NumPy is used for numerical computing.\n",
    "\n",
    "Create and manipulate NumPy arrays.\n",
    "\n",
    "Perform basic mathematical operations on arrays.\n",
    "\n",
    "Apply NumPy functions for simple statistics."
   ]
  },
  {
   "cell_type": "markdown",
   "id": "0cf4c521-c4d0-4ec3-b440-203a5a225ee9",
   "metadata": {},
   "source": [
    "# Why NumPy?"
   ]
  },
  {
   "cell_type": "raw",
   "id": "d106b0a5-381b-43c9-87df-5b2e4feec440",
   "metadata": {},
   "source": [
    "Fast: Runs much quicker than Python lists for large datasets.\n",
    "\n",
    "Compact: Stores data efficiently.\n",
    "\n",
    "Powerful: Provides mathematical and statistical tools.\n",
    "\n",
    "Used in:\n",
    "\n",
    "Data analysis\n",
    "\n",
    "Machine learning\n",
    "\n",
    "Scientific simulations"
   ]
  },
  {
   "cell_type": "markdown",
   "id": "7b5c3993-2433-4214-a929-c18b5d2ce5ab",
   "metadata": {},
   "source": [
    "#  Installing and Importing"
   ]
  },
  {
   "cell_type": "code",
   "execution_count": 31,
   "id": "277171bd-5809-42c8-bdcf-adfff309533b",
   "metadata": {},
   "outputs": [],
   "source": [
    "import numpy as np"
   ]
  },
  {
   "cell_type": "markdown",
   "id": "a87d6d9a-9906-4953-9d23-84bd77260785",
   "metadata": {},
   "source": [
    "# Creating Arrays"
   ]
  },
  {
   "cell_type": "code",
   "execution_count": 32,
   "id": "0c4a778f-5a8c-4b88-becf-602673ec4949",
   "metadata": {},
   "outputs": [
    {
     "name": "stdout",
     "output_type": "stream",
     "text": [
      "[1 2 3 4]\n"
     ]
    }
   ],
   "source": [
    "arr = np.array([1, 2, 3, 4])\n",
    "print(arr)"
   ]
  },
  {
   "cell_type": "raw",
   "id": "7f2ffc46-cb06-4e68-b419-08467e5579b4",
   "metadata": {},
   "source": [
    "NumPy arrays are like lists, but faster and more powerful."
   ]
  },
  {
   "cell_type": "markdown",
   "id": "546994a9-fa58-4345-9862-2f5e68764396",
   "metadata": {},
   "source": [
    "# Array Operations"
   ]
  },
  {
   "cell_type": "code",
   "execution_count": 33,
   "id": "dd2c9f92-c883-493a-bc2d-4b920cfbe121",
   "metadata": {},
   "outputs": [
    {
     "name": "stdout",
     "output_type": "stream",
     "text": [
      "[5 7 9]\n",
      "[ 4 10 18]\n"
     ]
    }
   ],
   "source": [
    "a = np.array([1, 2, 3])\n",
    "b = np.array([4, 5, 6])\n",
    "\n",
    "print(a + b)  # [5 7 9]\n",
    "print(a * b)  # [4 10 18]"
   ]
  },
  {
   "cell_type": "raw",
   "id": "37fffce0-c360-4772-8a86-77529f424191",
   "metadata": {},
   "source": [
    "Operations apply to all elements at once."
   ]
  },
  {
   "cell_type": "markdown",
   "id": "5dea996a-181b-40eb-bd19-1dbadc7e056d",
   "metadata": {},
   "source": [
    "# Useful NumPy Functions"
   ]
  },
  {
   "cell_type": "code",
   "execution_count": 34,
   "id": "afc6daef-d2be-43f2-86b0-b7c48169ae38",
   "metadata": {},
   "outputs": [
    {
     "name": "stdout",
     "output_type": "stream",
     "text": [
      "30.0\n",
      "50\n",
      "10\n",
      "14.142135623730951\n"
     ]
    }
   ],
   "source": [
    "nums = np.array([10, 20, 30, 40, 50])\n",
    "print(np.mean(nums))  # average\n",
    "print(np.max(nums))   # maximum\n",
    "print(np.min(nums))   # minimum\n",
    "print(np.std(nums))   # standard deviation"
   ]
  },
  {
   "cell_type": "markdown",
   "id": "19b0025e-1c7c-4dc4-8156-4fcf536360d4",
   "metadata": {},
   "source": [
    "# Multi-Dimensional Arrays"
   ]
  },
  {
   "cell_type": "code",
   "execution_count": 35,
   "id": "159d6cf4-afa3-4386-92e1-0392f9a49d91",
   "metadata": {},
   "outputs": [
    {
     "name": "stdout",
     "output_type": "stream",
     "text": [
      "(2, 2)\n",
      "2\n"
     ]
    }
   ],
   "source": [
    "matrix = np.array([[1, 2], [3, 4]])\n",
    "print(matrix.shape)  # (2, 2)\n",
    "print(matrix[0, 1])  # 2"
   ]
  },
  {
   "cell_type": "markdown",
   "id": "f15b15ad-a832-460e-89b6-499a7eb3efd7",
   "metadata": {},
   "source": [
    "# Generating Arrays Automatically"
   ]
  },
  {
   "cell_type": "code",
   "execution_count": 36,
   "id": "a97268f5-33f3-43fd-82d8-02738a38aea5",
   "metadata": {},
   "outputs": [
    {
     "name": "stdout",
     "output_type": "stream",
     "text": [
      "[[0. 0. 0.]\n",
      " [0. 0. 0.]]\n",
      "[[1. 1. 1.]\n",
      " [1. 1. 1.]\n",
      " [1. 1. 1.]]\n",
      "[0 2 4 6 8]\n",
      "[[0.48534406 0.26566076 0.07425822]\n",
      " [0.57917515 0.55320277 0.22527361]\n",
      " [0.08364124 0.14751453 0.7483581 ]]\n"
     ]
    }
   ],
   "source": [
    "print(np.zeros((2, 3)))   # 2x3 array of zeros\n",
    "print(np.ones((3, 3)))    # 3x3 array of ones\n",
    "print(np.arange(0, 10, 2)) # 0 to 10 step 2\n",
    "print(np.random.rand(3, 3)) # random numbers"
   ]
  },
  {
   "cell_type": "markdown",
   "id": "78dcd86c-da4e-49a2-8243-05fc5d998c67",
   "metadata": {},
   "source": [
    "# Real Example: Daily Temperatures"
   ]
  },
  {
   "cell_type": "code",
   "execution_count": 37,
   "id": "0afb86b5-0d65-4e68-a600-aceb1657b53a",
   "metadata": {},
   "outputs": [
    {
     "name": "stdout",
     "output_type": "stream",
     "text": [
      "Average Temp: 29.860000000000003\n",
      "Max Temp: 31.0\n",
      "Min Temp: 28.9\n"
     ]
    }
   ],
   "source": [
    "temps = np.array([29.5, 30.1, 28.9, 31.0, 29.8])\n",
    "print(\"Average Temp:\", np.mean(temps))\n",
    "print(\"Max Temp:\", np.max(temps))\n",
    "print(\"Min Temp:\", np.min(temps))"
   ]
  },
  {
   "cell_type": "markdown",
   "id": "a5db8242-fe3d-4bca-9935-89043e1caae1",
   "metadata": {},
   "source": [
    "# In-Class Activity"
   ]
  },
  {
   "cell_type": "raw",
   "id": "4345c0d0-fefc-4654-b307-75b826d21640",
   "metadata": {},
   "source": [
    "Create an array of daily expenses for 7 days.\n",
    "\n",
    "Calculate:\n",
    "\n",
    "Total expenses\n",
    "\n",
    "Average daily expense\n",
    "\n",
    "Day with the highest expense\n",
    "\n",
    "Create a 2D array of sales for 3 products over 4 weeks and find total sales per product.\n",
    "\n"
   ]
  },
  {
   "cell_type": "markdown",
   "id": "e5423a33-5061-4f4e-b92b-e8ae1d0c17b7",
   "metadata": {},
   "source": [
    "# Common Mistakes"
   ]
  },
  {
   "cell_type": "raw",
   "id": "eb42e5b2-f3d1-4f43-8d12-3d945ea6283f",
   "metadata": {},
   "source": [
    "Mixing Python lists and NumPy arrays in operations.\n",
    "\n",
    "Forgetting array shapes for multi-dimensional data.\n",
    "\n",
    "Using Python loops when NumPy can do it faster."
   ]
  },
  {
   "cell_type": "markdown",
   "id": "27f0658a-1555-499e-b7e2-a0658d4b9bd7",
   "metadata": {},
   "source": [
    "# Key Takeaways"
   ]
  },
  {
   "cell_type": "raw",
   "id": "b242d52c-62aa-445a-be18-6c52c32abc7e",
   "metadata": {},
   "source": [
    "NumPy is the foundation for numerical computing in Python.\n",
    "\n",
    "Arrays allow fast, vectorized operations.\n",
    "\n",
    "Many built-in functions for stats and math.\n",
    "\n"
   ]
  },
  {
   "cell_type": "markdown",
   "id": "1f5a8713-da0a-424f-bbe5-da667d3639ad",
   "metadata": {},
   "source": [
    "# Homework"
   ]
  },
  {
   "cell_type": "raw",
   "id": "96dac6cd-6338-4fa1-b84f-420d5515d80d",
   "metadata": {},
   "source": [
    "Generate 50 random exam scores between 0–100.\n",
    "\n",
    "Calculate:\n",
    "\n",
    "Average score\n",
    "\n",
    "Highest score\n",
    "\n",
    "Number of students who scored above 70.\n",
    "\n",
    "Save the results in a text file."
   ]
  },
  {
   "cell_type": "code",
   "execution_count": null,
   "id": "70b785a0-9f56-4363-8178-024956c78747",
   "metadata": {},
   "outputs": [],
   "source": []
  },
  {
   "cell_type": "code",
   "execution_count": null,
   "id": "28cb15dc-ec0b-455b-97c7-c709c9888aff",
   "metadata": {},
   "outputs": [],
   "source": []
  }
 ],
 "metadata": {
  "kernelspec": {
   "display_name": "Python [conda env:base] *",
   "language": "python",
   "name": "conda-base-py"
  },
  "language_info": {
   "codemirror_mode": {
    "name": "ipython",
    "version": 3
   },
   "file_extension": ".py",
   "mimetype": "text/x-python",
   "name": "python",
   "nbconvert_exporter": "python",
   "pygments_lexer": "ipython3",
   "version": "3.12.7"
  }
 },
 "nbformat": 4,
 "nbformat_minor": 5
}
