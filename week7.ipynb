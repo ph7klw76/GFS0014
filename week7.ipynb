{
 "cells": [
  {
   "cell_type": "markdown",
   "id": "2c011b9d-514d-4a42-ab17-5ad4a046109c",
   "metadata": {
    "editable": true,
    "slideshow": {
     "slide_type": ""
    },
    "tags": []
   },
   "source": [
    "# Introduction to Data Analysis"
   ]
  },
  {
   "cell_type": "raw",
   "id": "935b4dbe-cda0-41db-9e59-b2e0730bc1bb",
   "metadata": {},
   "source": [
    "By the end of this week, students will:\n",
    "\n",
    "Understand the role of data analysis in decision-making.\n",
    "\n",
    "Use Pandas to explore and summarize data.\n",
    "\n",
    "Calculate descriptive statistics (mean, median, standard deviation).\n",
    "\n",
    "Find relationships and trends in data."
   ]
  },
  {
   "cell_type": "markdown",
   "id": "c5fff403-4972-4c9f-bada-d75fb4a0982f",
   "metadata": {},
   "source": [
    "# What is Data Analysis?"
   ]
  },
  {
   "cell_type": "raw",
   "id": "cad1abe2-5da0-4737-a441-d517703c6278",
   "metadata": {
    "editable": true,
    "slideshow": {
     "slide_type": ""
    },
    "tags": []
   },
   "source": [
    "Definition: Examining data to extract useful information.\n",
    "\n",
    "Goals:\n",
    "\n",
    "Understand the past\n",
    "\n",
    "Predict the future\n",
    "\n",
    "Support decisions\n",
    "\n",
    "Used in:\n",
    "\n",
    "Marketing (customer trends)\n",
    "\n",
    "Healthcare (patient data)\n",
    "\n",
    "Finance (investment risks)\n",
    "\n"
   ]
  },
  {
   "cell_type": "markdown",
   "id": "fdac02c0-1f4e-4e9a-ba92-34969c520263",
   "metadata": {},
   "source": [
    "# Pandas Recap"
   ]
  },
  {
   "cell_type": "code",
   "execution_count": 1,
   "id": "bbf54d7a-4270-4b0a-95fc-4072e280c801",
   "metadata": {},
   "outputs": [
    {
     "name": "stdout",
     "output_type": "stream",
     "text": [
      "         Date       Category  Amount           Description\n",
      "0  2025-08-01           Food    15.5         Lunch at cafe\n",
      "1  2025-08-02      Transport     7.2              Bus fare\n",
      "2  2025-08-03  Entertainment    25.0          Movie ticket\n",
      "3  2025-08-04           Food    12.0  Dinner at restaurant\n",
      "4  2025-08-05      Utilities    45.0      Electricity bill\n"
     ]
    }
   ],
   "source": [
    "import pandas as pd\n",
    "df = pd.read_csv(\"expenses.csv\")\n",
    "print(df.head())"
   ]
  },
  {
   "cell_type": "raw",
   "id": "8c75389e-c159-4176-a01f-9cfdc2d4095e",
   "metadata": {},
   "source": [
    "DataFrame → table-like structure.\n",
    "\n",
    "Series → single column of data."
   ]
  },
  {
   "cell_type": "markdown",
   "id": "7c986f8a-f681-4575-aee2-d0e79b6da724",
   "metadata": {},
   "source": [
    "# Summarizing Data"
   ]
  },
  {
   "cell_type": "code",
   "execution_count": 2,
   "id": "d769d2c9-1049-41ed-ba46-4bdbefe6128a",
   "metadata": {},
   "outputs": [
    {
     "name": "stdout",
     "output_type": "stream",
     "text": [
      "          Amount\n",
      "count   5.000000\n",
      "mean   20.940000\n",
      "std    14.947174\n",
      "min     7.200000\n",
      "25%    12.000000\n",
      "50%    15.500000\n",
      "75%    25.000000\n",
      "max    45.000000\n",
      "20.94\n",
      "15.5\n",
      "14.947173645877003\n"
     ]
    }
   ],
   "source": [
    "print(df.describe())\n",
    "print(df[\"Amount\"].mean())  # average\n",
    "print(df[\"Amount\"].median())  # middle value\n",
    "print(df[\"Amount\"].std())  # spread"
   ]
  },
  {
   "cell_type": "markdown",
   "id": "7a09aa6a-b0ad-43b5-bb6b-7437317c2421",
   "metadata": {},
   "source": [
    "# Sorting & Filtering"
   ]
  },
  {
   "cell_type": "code",
   "execution_count": 3,
   "id": "92af4c8d-ce5e-4e55-8bb3-92052744d724",
   "metadata": {},
   "outputs": [],
   "source": [
    "# Filter high expenses\n",
    "high_expenses = df[df[\"Amount\"] > 20]\n",
    "\n",
    "# Sort by amount\n",
    "sorted_df = df.sort_values(\"Amount\", ascending=False)"
   ]
  },
  {
   "cell_type": "markdown",
   "id": "9fea9aac-5995-4edf-9e7c-cec235de5c04",
   "metadata": {},
   "source": [
    "# Counting Categories"
   ]
  },
  {
   "cell_type": "code",
   "execution_count": 4,
   "id": "b8f2e9d7-1100-4d1f-af75-2bdcf63244da",
   "metadata": {},
   "outputs": [
    {
     "name": "stdout",
     "output_type": "stream",
     "text": [
      "Category\n",
      "Food             2\n",
      "Transport        1\n",
      "Entertainment    1\n",
      "Utilities        1\n",
      "Name: count, dtype: int64\n"
     ]
    }
   ],
   "source": [
    "print(df[\"Category\"].value_counts())"
   ]
  },
  {
   "cell_type": "raw",
   "id": "9620cff7-d8dd-4895-b7d7-4ec702a56dac",
   "metadata": {},
   "source": [
    "Shows frequency of each category."
   ]
  },
  {
   "cell_type": "markdown",
   "id": "08256a50-c4f3-486c-8b3d-0a51900d22fe",
   "metadata": {},
   "source": [
    "# Grouping Data"
   ]
  },
  {
   "cell_type": "code",
   "execution_count": 5,
   "id": "d1f8fc7e-bef1-4eae-a8d6-35d90c29015f",
   "metadata": {},
   "outputs": [
    {
     "name": "stdout",
     "output_type": "stream",
     "text": [
      "Category\n",
      "Entertainment    25.0\n",
      "Food             27.5\n",
      "Transport         7.2\n",
      "Utilities        45.0\n",
      "Name: Amount, dtype: float64\n"
     ]
    }
   ],
   "source": [
    "category_totals = df.groupby(\"Category\")[\"Amount\"].sum()\n",
    "print(category_totals)"
   ]
  },
  {
   "cell_type": "raw",
   "id": "101bc7c1-5664-4220-8e08-139972ca9037",
   "metadata": {},
   "source": [
    "Useful for summaries by category"
   ]
  },
  {
   "cell_type": "markdown",
   "id": "ccaa1f63-fe55-4fde-82a1-a925b32797d5",
   "metadata": {},
   "source": [
    "# Correlations"
   ]
  },
  {
   "cell_type": "code",
   "execution_count": 6,
   "id": "2c4a502b-473b-4bac-94bd-7098ddcfc85a",
   "metadata": {},
   "outputs": [
    {
     "name": "stdout",
     "output_type": "stream",
     "text": [
      "        Amount\n",
      "Amount     1.0\n"
     ]
    }
   ],
   "source": [
    "print(df.corr(numeric_only=True))"
   ]
  },
  {
   "cell_type": "markdown",
   "id": "735d92da-0d70-4e98-80a8-d8d8d6edfe74",
   "metadata": {},
   "source": [
    "Shows relationships between numeric columns."
   ]
  },
  {
   "cell_type": "markdown",
   "id": "ba6af5e2-0c8a-4916-9800-4da4c3508f30",
   "metadata": {},
   "source": [
    "# In-Class Activity"
   ]
  },
  {
   "cell_type": "raw",
   "id": "4208b4d1-8dc5-46fc-ae98-a1aa985aabd1",
   "metadata": {},
   "source": [
    "Load expenses.csv.\n",
    "\n",
    "Find:\n",
    "\n",
    "Total spent\n",
    "\n",
    "Average amount per transaction\n",
    "\n",
    "Category with highest total spending\n",
    "\n",
    "Sort transactions by amount (highest to lowest)."
   ]
  },
  {
   "cell_type": "code",
   "execution_count": null,
   "id": "b9d1cebc-7d8a-4eec-ace8-c606aeb36f29",
   "metadata": {},
   "outputs": [],
   "source": []
  }
 ],
 "metadata": {
  "kernelspec": {
   "display_name": "Python [conda env:base] *",
   "language": "python",
   "name": "conda-base-py"
  },
  "language_info": {
   "codemirror_mode": {
    "name": "ipython",
    "version": 3
   },
   "file_extension": ".py",
   "mimetype": "text/x-python",
   "name": "python",
   "nbconvert_exporter": "python",
   "pygments_lexer": "ipython3",
   "version": "3.12.7"
  }
 },
 "nbformat": 4,
 "nbformat_minor": 5
}
