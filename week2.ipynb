{
 "cells": [
  {
   "cell_type": "markdown",
   "id": "fb7786c5-e5ac-4f75-9107-c0130ac91963",
   "metadata": {
    "editable": true,
    "slideshow": {
     "slide_type": ""
    },
    "tags": []
   },
   "source": [
    "# Working with Data"
   ]
  },
  {
   "cell_type": "markdown",
   "id": "f170564f-39cc-473f-8fd3-5d82627e8d06",
   "metadata": {},
   "source": [
    "# Why Data Matters"
   ]
  },
  {
   "cell_type": "raw",
   "id": "9004ad6a-915a-4ed6-86a3-c6319614c12a",
   "metadata": {},
   "source": [
    "Data is the core of scientific computing.\n",
    "\n",
    "Almost every field uses data:\n",
    "\n",
    "📊 Business: sales records\n",
    "\n",
    "🌦 Weather: temperature logs\n",
    "\n",
    "🚚 Logistics: delivery times\n",
    "\n",
    "Python makes working with data easy and powerful."
   ]
  },
  {
   "cell_type": "markdown",
   "id": "767f0f93-654b-4c7b-b23a-d96480e855cb",
   "metadata": {},
   "source": [
    "# Lists"
   ]
  },
  {
   "cell_type": "code",
   "execution_count": 1,
   "id": "64487378-239f-4096-aa9a-9392816075a3",
   "metadata": {},
   "outputs": [
    {
     "name": "stdout",
     "output_type": "stream",
     "text": [
      "apple\n",
      "3\n"
     ]
    }
   ],
   "source": [
    "fruits = [\"apple\", \"banana\", \"cherry\"]\n",
    "print(fruits[0])  # apple\n",
    "print(len(fruits))  # 3"
   ]
  },
  {
   "cell_type": "raw",
   "id": "17b70cfd-a93a-476c-a100-a491b550a398",
   "metadata": {},
   "source": [
    "Indexing starts at 0"
   ]
  },
  {
   "cell_type": "markdown",
   "id": "cef52648-4d23-4879-b6cc-789f380c2b69",
   "metadata": {},
   "source": [
    "# List Operations"
   ]
  },
  {
   "cell_type": "code",
   "execution_count": 2,
   "id": "f3215484-8586-4449-ab45-bf42a4dbc316",
   "metadata": {},
   "outputs": [
    {
     "name": "stdout",
     "output_type": "stream",
     "text": [
      "apple\n",
      "cherry\n",
      "orange\n"
     ]
    }
   ],
   "source": [
    "fruits.append(\"orange\")  # add\n",
    "fruits.remove(\"banana\")  # remove\n",
    "for fruit in fruits:     # loop\n",
    "    print(fruit)"
   ]
  },
  {
   "cell_type": "markdown",
   "id": "c8eb45de-5a02-45ed-9472-4aa4a3eb4037",
   "metadata": {},
   "source": [
    "# Dictionaries"
   ]
  },
  {
   "cell_type": "raw",
   "id": "c8a6490f-d7eb-4587-92f1-9342d9a6a60c",
   "metadata": {},
   "source": [
    "Store data as key-value pairs."
   ]
  },
  {
   "cell_type": "code",
   "execution_count": 3,
   "id": "016bb8b7-9e3b-4e63-864f-f7a6e2be917d",
   "metadata": {},
   "outputs": [
    {
     "name": "stdout",
     "output_type": "stream",
     "text": [
      "Ali\n"
     ]
    }
   ],
   "source": [
    "person = {\n",
    "    \"name\": \"Ali\",\n",
    "    \"age\": 25,\n",
    "    \"city\": \"Kuala Lumpur\"\n",
    "}\n",
    "print(person[\"name\"])  # Ali"
   ]
  },
  {
   "cell_type": "markdown",
   "id": "38f0d859-8617-4673-ae8d-2c0258156f0a",
   "metadata": {},
   "source": [
    "# Real Example"
   ]
  },
  {
   "cell_type": "code",
   "execution_count": 4,
   "id": "66aa3afc-9c50-4d25-8880-0649284a1890",
   "metadata": {},
   "outputs": [
    {
     "name": "stdout",
     "output_type": "stream",
     "text": [
      "Sara has an average grade of 84.33333333333333\n"
     ]
    }
   ],
   "source": [
    "student = {\n",
    "    \"name\": \"Sara\",\n",
    "    \"grades\": [85, 90, 78]\n",
    "}\n",
    "avg_grade = sum(student[\"grades\"]) / len(student[\"grades\"])\n",
    "print(student[\"name\"], \"has an average grade of\", avg_grade)\n"
   ]
  },
  {
   "cell_type": "markdown",
   "id": "c13d5f4a-f39d-421f-a8c2-74e6a2b5d9be",
   "metadata": {},
   "source": [
    "# Reading CSV Files"
   ]
  },
  {
   "cell_type": "raw",
   "id": "353d67b3-6a97-4892-ab0b-17546ee2f2e0",
   "metadata": {},
   "source": [
    "CSV = Comma-Separated Values\n",
    "\n",
    "Use pandas for easy reading:"
   ]
  },
  {
   "cell_type": "code",
   "execution_count": 6,
   "id": "4d378add-ad1b-4624-bcfe-1b27dc75ff0f",
   "metadata": {},
   "outputs": [
    {
     "name": "stdout",
     "output_type": "stream",
     "text": [
      "         Date       Category  Amount           Description\n",
      "0  2025-08-01           Food    15.5         Lunch at cafe\n",
      "1  2025-08-02      Transport     7.2              Bus fare\n",
      "2  2025-08-03  Entertainment    25.0          Movie ticket\n",
      "3  2025-08-04           Food    12.0  Dinner at restaurant\n",
      "4  2025-08-05      Utilities    45.0      Electricity bill\n"
     ]
    }
   ],
   "source": [
    "import pandas as pd\n",
    "\n",
    "data = pd.read_csv(\"expenses.csv\")\n",
    "print(data.head())"
   ]
  },
  {
   "cell_type": "markdown",
   "id": "e932ba4f-070d-4849-94fd-9fe56ea85ab6",
   "metadata": {},
   "source": [
    "# Writing CSV Files"
   ]
  },
  {
   "cell_type": "code",
   "execution_count": 7,
   "id": "32042d04-5aa9-481b-a2af-eeb84cc7fa0b",
   "metadata": {},
   "outputs": [],
   "source": [
    "data.to_csv(\"new_expenses.csv\", index=False)"
   ]
  },
  {
   "cell_type": "raw",
   "id": "3084c48d-c343-4332-9a0a-9a88b583ed40",
   "metadata": {},
   "source": [
    "index=False → prevents saving row numbers."
   ]
  },
  {
   "cell_type": "markdown",
   "id": "ae3ff573-65c4-4e27-b0be-d81f396da70c",
   "metadata": {},
   "source": [
    "# Mini Data Project"
   ]
  },
  {
   "cell_type": "raw",
   "id": "c6ab9a85-26fa-453c-bcbe-f947cb6f6464",
   "metadata": {},
   "source": [
    "Download expenses.csv from class folder.\n",
    "\n",
    "Load it using pandas.\n",
    "\n",
    "Calculate:\n",
    "\n",
    "Total expenses\n",
    "\n",
    "Average expense per day\n",
    "\n",
    "Save results to a new CSV file."
   ]
  },
  {
   "cell_type": "markdown",
   "id": "49f46df8-81f6-4e71-8442-fb4e53bc6f05",
   "metadata": {},
   "source": [
    "# Common Mistakes"
   ]
  },
  {
   "cell_type": "raw",
   "id": "41e8fc9c-15d8-46a8-8b6e-c6353ffe5115",
   "metadata": {},
   "source": [
    "File not found → make sure it’s in the right folder.\n",
    "\n",
    "Wrong column names → check with data.columns.\n",
    "\n",
    "Forgetting to import pandas."
   ]
  },
  {
   "cell_type": "markdown",
   "id": "b7bc6ac4-d2fa-4396-9d50-93f456f64cf0",
   "metadata": {},
   "source": [
    "# Key Takeaways"
   ]
  },
  {
   "cell_type": "raw",
   "id": "6ac3ffce-8660-4976-a4fe-9ca60f061555",
   "metadata": {},
   "source": [
    "Lists = ordered collection of items.\n",
    "\n",
    "Dictionaries = labeled data storage.\n",
    "\n",
    "pandas makes working with CSVs very simple."
   ]
  },
  {
   "cell_type": "raw",
   "id": "118258e9-57f4-4c79-9eb3-01a2c5313f16",
   "metadata": {
    "editable": true,
    "slideshow": {
     "slide_type": ""
    },
    "tags": []
   },
   "source": []
  }
 ],
 "metadata": {
  "kernelspec": {
   "display_name": "Python [conda env:base] *",
   "language": "python",
   "name": "conda-base-py"
  },
  "language_info": {
   "codemirror_mode": {
    "name": "ipython",
    "version": 3
   },
   "file_extension": ".py",
   "mimetype": "text/x-python",
   "name": "python",
   "nbconvert_exporter": "python",
   "pygments_lexer": "ipython3",
   "version": "3.12.7"
  }
 },
 "nbformat": 4,
 "nbformat_minor": 5
}
