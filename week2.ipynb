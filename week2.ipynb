{
 "cells": [
  {
   "cell_type": "markdown",
   "id": "fb7786c5-e5ac-4f75-9107-c0130ac91963",
   "metadata": {
    "editable": true,
    "slideshow": {
     "slide_type": ""
    },
    "tags": []
   },
   "source": [
    "# Working with Data"
   ]
  },
  {
   "cell_type": "markdown",
   "id": "f170564f-39cc-473f-8fd3-5d82627e8d06",
   "metadata": {},
   "source": [
    "# Why Data Matters"
   ]
  },
  {
   "cell_type": "raw",
   "id": "9004ad6a-915a-4ed6-86a3-c6319614c12a",
   "metadata": {},
   "source": [
    "Data is the core of scientific computing.\n",
    "\n",
    "Almost every field uses data:\n",
    "\n",
    "📊 Business: sales records\n",
    "\n",
    "🌦 Weather: temperature logs\n",
    "\n",
    "🚚 Logistics: delivery times\n",
    "\n",
    "Python makes working with data easy and powerful."
   ]
  },
  {
   "cell_type": "markdown",
   "id": "767f0f93-654b-4c7b-b23a-d96480e855cb",
   "metadata": {},
   "source": [
    "# Lists"
   ]
  },
  {
   "cell_type": "code",
   "execution_count": 1,
   "id": "64487378-239f-4096-aa9a-9392816075a3",
   "metadata": {},
   "outputs": [
    {
     "name": "stdout",
     "output_type": "stream",
     "text": [
      "apple\n",
      "3\n"
     ]
    }
   ],
   "source": [
    "fruits = [\"apple\", \"banana\", \"cherry\"]\n",
    "print(fruits[0])  # apple\n",
    "print(len(fruits))  # 3"
   ]
  },
  {
   "cell_type": "raw",
   "id": "17b70cfd-a93a-476c-a100-a491b550a398",
   "metadata": {},
   "source": [
    "Indexing starts at 0"
   ]
  },
  {
   "cell_type": "markdown",
   "id": "442e0d20-763a-4af5-b3a5-2cbf6d8ecf73",
   "metadata": {},
   "source": [
    "## Allow Duplicates"
   ]
  },
  {
   "cell_type": "code",
   "execution_count": 1,
   "id": "24107894-8388-4028-8ad8-4c6fc5b7b7da",
   "metadata": {},
   "outputs": [
    {
     "name": "stdout",
     "output_type": "stream",
     "text": [
      "['apple', 'banana', 'cherry', 'apple', 'cherry']\n"
     ]
    }
   ],
   "source": [
    "thislist = [\"apple\", \"banana\", \"cherry\", \"apple\", \"cherry\"]\n",
    "print(thislist)"
   ]
  },
  {
   "cell_type": "code",
   "execution_count": 2,
   "id": "33b031da-d583-45b7-9bc4-b22613329f48",
   "metadata": {},
   "outputs": [
    {
     "name": "stdout",
     "output_type": "stream",
     "text": [
      "3\n"
     ]
    }
   ],
   "source": [
    "thislist = [\"apple\", \"banana\", \"cherry\"]\n",
    "print(len(thislist))"
   ]
  },
  {
   "cell_type": "code",
   "execution_count": 3,
   "id": "2b8371f9-05f6-464f-9fee-27cd03da3398",
   "metadata": {},
   "outputs": [],
   "source": [
    "list1 = [\"apple\", \"banana\", \"cherry\"]\n",
    "list2 = [1, 5, 7, 9, 3]\n",
    "list3 = [True, False, False]"
   ]
  },
  {
   "cell_type": "markdown",
   "id": "cef52648-4d23-4879-b6cc-789f380c2b69",
   "metadata": {},
   "source": [
    "# List Operations"
   ]
  },
  {
   "cell_type": "code",
   "execution_count": 2,
   "id": "f3215484-8586-4449-ab45-bf42a4dbc316",
   "metadata": {},
   "outputs": [
    {
     "name": "stdout",
     "output_type": "stream",
     "text": [
      "apple\n",
      "cherry\n",
      "orange\n"
     ]
    }
   ],
   "source": [
    "fruits.append(\"orange\")  # add\n",
    "fruits.remove(\"banana\")  # remove\n",
    "for fruit in fruits:     # loop\n",
    "    print(fruit)"
   ]
  },
  {
   "cell_type": "markdown",
   "id": "154a4c8d-0341-4ed4-b6e5-7677044b0b97",
   "metadata": {},
   "source": [
    "## Access Items"
   ]
  },
  {
   "cell_type": "code",
   "execution_count": 4,
   "id": "0da67bd5-0c04-4647-a2ea-a5af45e44d51",
   "metadata": {},
   "outputs": [
    {
     "name": "stdout",
     "output_type": "stream",
     "text": [
      "banana\n"
     ]
    }
   ],
   "source": [
    "thislist = [\"apple\", \"banana\", \"cherry\"]\n",
    "print(thislist[1])"
   ]
  },
  {
   "cell_type": "code",
   "execution_count": 5,
   "id": "3e0082b4-7a81-49e4-ade3-9d3dba6ddefd",
   "metadata": {},
   "outputs": [
    {
     "name": "stdout",
     "output_type": "stream",
     "text": [
      "cherry\n"
     ]
    }
   ],
   "source": [
    "thislist = [\"apple\", \"banana\", \"cherry\"]\n",
    "print(thislist[-1])"
   ]
  },
  {
   "cell_type": "code",
   "execution_count": 6,
   "id": "48ddc4d2-43ec-4e56-a470-b0f3fa998d87",
   "metadata": {},
   "outputs": [
    {
     "name": "stdout",
     "output_type": "stream",
     "text": [
      "['cherry', 'orange', 'kiwi']\n"
     ]
    }
   ],
   "source": [
    "thislist = [\"apple\", \"banana\", \"cherry\", \"orange\", \"kiwi\", \"melon\", \"mango\"]\n",
    "print(thislist[2:5])"
   ]
  },
  {
   "cell_type": "code",
   "execution_count": 7,
   "id": "4a27f805-1b22-47f7-9084-d91c3ea29b44",
   "metadata": {},
   "outputs": [
    {
     "name": "stdout",
     "output_type": "stream",
     "text": [
      "['apple', 'banana', 'cherry', 'orange']\n"
     ]
    }
   ],
   "source": [
    "thislist = [\"apple\", \"banana\", \"cherry\", \"orange\", \"kiwi\", \"melon\", \"mango\"]\n",
    "print(thislist[:4])"
   ]
  },
  {
   "cell_type": "code",
   "execution_count": 8,
   "id": "78513053-79c7-47bb-a9e2-eaf0c14fd9e5",
   "metadata": {},
   "outputs": [
    {
     "name": "stdout",
     "output_type": "stream",
     "text": [
      "['cherry', 'orange', 'kiwi', 'melon', 'mango']\n"
     ]
    }
   ],
   "source": [
    "thislist = [\"apple\", \"banana\", \"cherry\", \"orange\", \"kiwi\", \"melon\", \"mango\"]\n",
    "print(thislist[2:])"
   ]
  },
  {
   "cell_type": "code",
   "execution_count": 9,
   "id": "06cccdee-7639-4e48-9efa-2d1c05c69926",
   "metadata": {},
   "outputs": [
    {
     "name": "stdout",
     "output_type": "stream",
     "text": [
      "Yes, 'apple' is in the fruits list\n"
     ]
    }
   ],
   "source": [
    "thislist = [\"apple\", \"banana\", \"cherry\"]\n",
    "if \"apple\" in thislist:\n",
    "  print(\"Yes, 'apple' is in the fruits list\")"
   ]
  },
  {
   "cell_type": "markdown",
   "id": "3fdd61a4-6b92-4b3d-91a8-6269020f2c49",
   "metadata": {},
   "source": [
    "## Change Item Value"
   ]
  },
  {
   "cell_type": "code",
   "execution_count": 10,
   "id": "a69d73dd-ac64-407f-80c0-74ef909a1e90",
   "metadata": {},
   "outputs": [
    {
     "name": "stdout",
     "output_type": "stream",
     "text": [
      "['apple', 'blackcurrant', 'cherry']\n"
     ]
    }
   ],
   "source": [
    "thislist = [\"apple\", \"banana\", \"cherry\"]\n",
    "thislist[1] = \"blackcurrant\"\n",
    "print(thislist)"
   ]
  },
  {
   "cell_type": "markdown",
   "id": "4966a7a1-255f-4893-91a8-4c87c032e691",
   "metadata": {},
   "source": [
    "## Change a Range of Item Values"
   ]
  },
  {
   "cell_type": "code",
   "execution_count": 11,
   "id": "c590d6a8-0800-4849-88de-8af4da4145c1",
   "metadata": {},
   "outputs": [
    {
     "name": "stdout",
     "output_type": "stream",
     "text": [
      "['apple', 'blackcurrant', 'watermelon', 'orange', 'kiwi', 'mango']\n"
     ]
    }
   ],
   "source": [
    "thislist = [\"apple\", \"banana\", \"cherry\", \"orange\", \"kiwi\", \"mango\"]\n",
    "thislist[1:3] = [\"blackcurrant\", \"watermelon\"]\n",
    "print(thislist)"
   ]
  },
  {
   "cell_type": "code",
   "execution_count": 12,
   "id": "160948db-19f2-4572-97ff-21fc17345fd4",
   "metadata": {},
   "outputs": [
    {
     "name": "stdout",
     "output_type": "stream",
     "text": [
      "['apple', 'blackcurrant', 'watermelon', 'cherry']\n"
     ]
    }
   ],
   "source": [
    "thislist = [\"apple\", \"banana\", \"cherry\"]\n",
    "thislist[1:2] = [\"blackcurrant\", \"watermelon\"]\n",
    "print(thislist)"
   ]
  },
  {
   "cell_type": "markdown",
   "id": "f19e3dc9-534a-4c4d-acb2-3b82c2dcbcab",
   "metadata": {},
   "source": [
    "## Insert Items"
   ]
  },
  {
   "cell_type": "code",
   "execution_count": 13,
   "id": "43f1d56f-f2ed-41ba-bb55-c248aa6fe50c",
   "metadata": {},
   "outputs": [
    {
     "name": "stdout",
     "output_type": "stream",
     "text": [
      "['apple', 'banana', 'watermelon', 'cherry']\n"
     ]
    }
   ],
   "source": [
    "thislist = [\"apple\", \"banana\", \"cherry\"]\n",
    "thislist.insert(2, \"watermelon\")\n",
    "print(thislist)"
   ]
  },
  {
   "cell_type": "markdown",
   "id": "d089dfa3-71ae-4161-b13c-0331af0335f4",
   "metadata": {},
   "source": [
    "## Append Items"
   ]
  },
  {
   "cell_type": "code",
   "execution_count": 14,
   "id": "23aaa185-4c69-4ef4-834e-e2da3b3e374a",
   "metadata": {},
   "outputs": [
    {
     "name": "stdout",
     "output_type": "stream",
     "text": [
      "['apple', 'banana', 'cherry', 'orange']\n"
     ]
    }
   ],
   "source": [
    "thislist = [\"apple\", \"banana\", \"cherry\"]\n",
    "thislist.append(\"orange\")\n",
    "print(thislist)"
   ]
  },
  {
   "cell_type": "markdown",
   "id": "55446d56-f7ff-45ea-9719-b03932032713",
   "metadata": {},
   "source": [
    "## Extend List"
   ]
  },
  {
   "cell_type": "code",
   "execution_count": 15,
   "id": "9c15a511-05ef-4939-b4fd-6347be764a17",
   "metadata": {},
   "outputs": [
    {
     "name": "stdout",
     "output_type": "stream",
     "text": [
      "['apple', 'banana', 'cherry', 'mango', 'pineapple', 'papaya']\n"
     ]
    }
   ],
   "source": [
    "thislist = [\"apple\", \"banana\", \"cherry\"]\n",
    "tropical = [\"mango\", \"pineapple\", \"papaya\"]\n",
    "thislist.extend(tropical)\n",
    "print(thislist)"
   ]
  },
  {
   "cell_type": "markdown",
   "id": "f0de9a62-acfb-4e67-9a71-b0584491eddf",
   "metadata": {},
   "source": [
    "## Remove Specified Item"
   ]
  },
  {
   "cell_type": "code",
   "execution_count": 16,
   "id": "cd1fb805-84cd-4ac3-8c5a-44b5dab3fe4d",
   "metadata": {},
   "outputs": [
    {
     "name": "stdout",
     "output_type": "stream",
     "text": [
      "['apple', 'cherry']\n"
     ]
    }
   ],
   "source": [
    "thislist = [\"apple\", \"banana\", \"cherry\"]\n",
    "thislist.remove(\"banana\")\n",
    "print(thislist)"
   ]
  },
  {
   "cell_type": "code",
   "execution_count": 17,
   "id": "bec7efe9-e3f0-4aad-bffe-97d94fe7e14c",
   "metadata": {},
   "outputs": [
    {
     "name": "stdout",
     "output_type": "stream",
     "text": [
      "['apple', 'cherry', 'banana', 'kiwi']\n"
     ]
    }
   ],
   "source": [
    "thislist = [\"apple\", \"banana\", \"cherry\", \"banana\", \"kiwi\"]\n",
    "thislist.remove(\"banana\")\n",
    "print(thislist)"
   ]
  },
  {
   "cell_type": "markdown",
   "id": "d42c56b3-74af-4fb9-8186-04b8e6273af7",
   "metadata": {},
   "source": [
    "## Remove Specified Index"
   ]
  },
  {
   "cell_type": "code",
   "execution_count": 18,
   "id": "608fa3bf-d289-4fe9-b538-9bce7ad8f1d0",
   "metadata": {},
   "outputs": [
    {
     "name": "stdout",
     "output_type": "stream",
     "text": [
      "['apple', 'cherry']\n"
     ]
    }
   ],
   "source": [
    "thislist = [\"apple\", \"banana\", \"cherry\"]\n",
    "thislist.pop(1)\n",
    "print(thislist)"
   ]
  },
  {
   "cell_type": "code",
   "execution_count": 19,
   "id": "6423e7ad-12ce-4e35-882b-60826ebf09f8",
   "metadata": {},
   "outputs": [
    {
     "name": "stdout",
     "output_type": "stream",
     "text": [
      "['apple', 'banana']\n"
     ]
    }
   ],
   "source": [
    "thislist = [\"apple\", \"banana\", \"cherry\"]\n",
    "thislist.pop()\n",
    "print(thislist)"
   ]
  },
  {
   "cell_type": "markdown",
   "id": "9bf54a4e-1b34-443a-9a32-734790d2b898",
   "metadata": {},
   "source": [
    "## Clear the List"
   ]
  },
  {
   "cell_type": "code",
   "execution_count": 20,
   "id": "454097dc-2a72-48c8-b6c0-36150a1bf734",
   "metadata": {},
   "outputs": [
    {
     "name": "stdout",
     "output_type": "stream",
     "text": [
      "[]\n"
     ]
    }
   ],
   "source": [
    "thislist = [\"apple\", \"banana\", \"cherry\"]\n",
    "thislist.clear()\n",
    "print(thislist)"
   ]
  },
  {
   "cell_type": "markdown",
   "id": "0666ae26-8869-4176-aabc-425fa9b6c63b",
   "metadata": {},
   "source": [
    "## Loop Through a List"
   ]
  },
  {
   "cell_type": "code",
   "execution_count": 21,
   "id": "63f23d6d-3c2b-43de-82a2-eea4e80bf9a9",
   "metadata": {},
   "outputs": [
    {
     "name": "stdout",
     "output_type": "stream",
     "text": [
      "apple\n",
      "banana\n",
      "cherry\n"
     ]
    }
   ],
   "source": [
    "thislist = [\"apple\", \"banana\", \"cherry\"]\n",
    "for x in thislist:\n",
    "  print(x)"
   ]
  },
  {
   "cell_type": "markdown",
   "id": "ca7d6c36-939e-4bc5-bddb-619c3b5f022a",
   "metadata": {},
   "source": [
    "## Loop Through the Index Numbers"
   ]
  },
  {
   "cell_type": "code",
   "execution_count": 22,
   "id": "a137f7b2-edb6-4cfb-ba94-6543cb3e6e27",
   "metadata": {},
   "outputs": [
    {
     "name": "stdout",
     "output_type": "stream",
     "text": [
      "apple\n",
      "banana\n",
      "cherry\n"
     ]
    }
   ],
   "source": [
    "thislist = [\"apple\", \"banana\", \"cherry\"]\n",
    "for i in range(len(thislist)):\n",
    "  print(thislist[i])"
   ]
  },
  {
   "cell_type": "markdown",
   "id": "e075a805-27da-41be-bf27-ed8cf810fcac",
   "metadata": {},
   "source": [
    "## List Comprehension"
   ]
  },
  {
   "cell_type": "code",
   "execution_count": 23,
   "id": "b5703b0d-6416-4ac1-963f-24e82b99b066",
   "metadata": {},
   "outputs": [
    {
     "name": "stdout",
     "output_type": "stream",
     "text": [
      "['apple', 'banana', 'mango']\n"
     ]
    }
   ],
   "source": [
    "fruits = [\"apple\", \"banana\", \"cherry\", \"kiwi\", \"mango\"]\n",
    "newlist = []\n",
    "\n",
    "for x in fruits:\n",
    "  if \"a\" in x:\n",
    "    newlist.append(x)\n",
    "\n",
    "print(newlist)"
   ]
  },
  {
   "cell_type": "code",
   "execution_count": 24,
   "id": "63f1f3d9-decd-4bb7-a9e9-3b7aca68793c",
   "metadata": {},
   "outputs": [
    {
     "name": "stdout",
     "output_type": "stream",
     "text": [
      "['apple', 'banana', 'mango']\n"
     ]
    }
   ],
   "source": [
    "fruits = [\"apple\", \"banana\", \"cherry\", \"kiwi\", \"mango\"]\n",
    "\n",
    "newlist = [x for x in fruits if \"a\" in x]\n",
    "\n",
    "print(newlist)"
   ]
  },
  {
   "cell_type": "markdown",
   "id": "cfd30230-9abe-4829-b688-b4f60b2f9d43",
   "metadata": {},
   "source": [
    "## The Syntax \n",
    "newlist = [expression for item in iterable if condition == True]"
   ]
  },
  {
   "cell_type": "code",
   "execution_count": 31,
   "id": "30d7519c-3e31-4ceb-919a-28adde24496d",
   "metadata": {},
   "outputs": [
    {
     "name": "stdout",
     "output_type": "stream",
     "text": [
      "['banana', 'cherry', 'kiwi', 'mango']\n"
     ]
    }
   ],
   "source": [
    "newlist = [x for x in fruits if x != \"apple\"]\n",
    "print(newlist)"
   ]
  },
  {
   "cell_type": "code",
   "execution_count": 32,
   "id": "b47c4a7e-df92-465c-82fd-1f22adcf70bc",
   "metadata": {},
   "outputs": [
    {
     "name": "stdout",
     "output_type": "stream",
     "text": [
      "['apple', 'banana', 'cherry', 'kiwi', 'mango']\n"
     ]
    }
   ],
   "source": [
    "newlist = [x for x in fruits]\n",
    "print(newlist)"
   ]
  },
  {
   "cell_type": "markdown",
   "id": "3806ad97-096b-4200-b65f-db4213e25d7a",
   "metadata": {},
   "source": [
    "## Iterable"
   ]
  },
  {
   "cell_type": "code",
   "execution_count": 33,
   "id": "a7491274-902f-4c46-8def-399e7ccaa03d",
   "metadata": {},
   "outputs": [
    {
     "name": "stdout",
     "output_type": "stream",
     "text": [
      "[0, 1, 2, 3, 4, 5, 6, 7, 8, 9]\n"
     ]
    }
   ],
   "source": [
    "newlist = [x for x in range(10)]\n",
    "print(newlist)"
   ]
  },
  {
   "cell_type": "code",
   "execution_count": 34,
   "id": "44232186-0ec8-47f9-a018-39ab165e04fc",
   "metadata": {},
   "outputs": [
    {
     "name": "stdout",
     "output_type": "stream",
     "text": [
      "[0, 1, 2, 3, 4]\n"
     ]
    }
   ],
   "source": [
    "newlist = [x for x in range(10) if x < 5]\n",
    "print(newlist)"
   ]
  },
  {
   "cell_type": "code",
   "execution_count": 35,
   "id": "19c2ad7a-3e8e-410e-ab5f-03e03797ea3e",
   "metadata": {},
   "outputs": [
    {
     "name": "stdout",
     "output_type": "stream",
     "text": [
      "['APPLE', 'BANANA', 'CHERRY', 'KIWI', 'MANGO']\n"
     ]
    }
   ],
   "source": [
    "newlist = [x.upper() for x in fruits]\n",
    "print(newlist)"
   ]
  },
  {
   "cell_type": "code",
   "execution_count": 36,
   "id": "4a7b65d5-6fd6-41ee-8d6e-d91b6d94cf7d",
   "metadata": {},
   "outputs": [
    {
     "name": "stdout",
     "output_type": "stream",
     "text": [
      "['hello', 'hello', 'hello', 'hello', 'hello']\n"
     ]
    }
   ],
   "source": [
    "newlist = ['hello' for x in fruits]\n",
    "print(newlist)"
   ]
  },
  {
   "cell_type": "code",
   "execution_count": 38,
   "id": "30d128c2-18c0-475e-9f9c-fde8b7e7d05e",
   "metadata": {},
   "outputs": [
    {
     "name": "stdout",
     "output_type": "stream",
     "text": [
      "['apple', 'orange', 'cherry', 'kiwi', 'mango']\n"
     ]
    }
   ],
   "source": [
    "newlist = [x if x != \"banana\" else \"orange\" for x in fruits]\n",
    "print(newlist)"
   ]
  },
  {
   "cell_type": "markdown",
   "id": "4e543d32-d3c0-4848-8ea2-c17c364d5691",
   "metadata": {},
   "source": [
    "## Sort List Alphanumerically"
   ]
  },
  {
   "cell_type": "code",
   "execution_count": 39,
   "id": "f34a9304-e179-41ec-8dcd-74754f4f77b5",
   "metadata": {},
   "outputs": [
    {
     "name": "stdout",
     "output_type": "stream",
     "text": [
      "['banana', 'kiwi', 'mango', 'orange', 'pineapple']\n"
     ]
    }
   ],
   "source": [
    "thislist = [\"orange\", \"mango\", \"kiwi\", \"pineapple\", \"banana\"]\n",
    "thislist.sort()\n",
    "print(thislist)"
   ]
  },
  {
   "cell_type": "code",
   "execution_count": 40,
   "id": "dea66497-693e-4794-9238-e1334ca29538",
   "metadata": {},
   "outputs": [
    {
     "name": "stdout",
     "output_type": "stream",
     "text": [
      "[23, 50, 65, 82, 100]\n"
     ]
    }
   ],
   "source": [
    "thislist = [100, 50, 65, 82, 23]\n",
    "thislist.sort()\n",
    "print(thislist)"
   ]
  },
  {
   "cell_type": "markdown",
   "id": "0586ec8e-4fba-4c77-99ef-33525eb37589",
   "metadata": {},
   "source": [
    "## Sort Descending"
   ]
  },
  {
   "cell_type": "code",
   "execution_count": 41,
   "id": "56b2d97e-42e9-4019-ad95-98b678ade1c7",
   "metadata": {},
   "outputs": [
    {
     "name": "stdout",
     "output_type": "stream",
     "text": [
      "['pineapple', 'orange', 'mango', 'kiwi', 'banana']\n"
     ]
    }
   ],
   "source": [
    "thislist = [\"orange\", \"mango\", \"kiwi\", \"pineapple\", \"banana\"]\n",
    "thislist.sort(reverse = True)\n",
    "print(thislist)"
   ]
  },
  {
   "cell_type": "code",
   "execution_count": 42,
   "id": "d4faef29-c6d6-4f58-aafa-94781111637e",
   "metadata": {},
   "outputs": [
    {
     "name": "stdout",
     "output_type": "stream",
     "text": [
      "[100, 82, 65, 50, 23]\n"
     ]
    }
   ],
   "source": [
    "thislist = [100, 50, 65, 82, 23]\n",
    "thislist.sort(reverse = True)\n",
    "print(thislist)"
   ]
  },
  {
   "cell_type": "markdown",
   "id": "c8eb45de-5a02-45ed-9472-4aa4a3eb4037",
   "metadata": {},
   "source": [
    "# Dictionaries"
   ]
  },
  {
   "cell_type": "raw",
   "id": "c8a6490f-d7eb-4587-92f1-9342d9a6a60c",
   "metadata": {},
   "source": [
    "Store data as key-value pairs."
   ]
  },
  {
   "cell_type": "code",
   "execution_count": 3,
   "id": "016bb8b7-9e3b-4e63-864f-f7a6e2be917d",
   "metadata": {},
   "outputs": [
    {
     "name": "stdout",
     "output_type": "stream",
     "text": [
      "Ali\n"
     ]
    }
   ],
   "source": [
    "person = {\n",
    "    \"name\": \"Ali\",\n",
    "    \"age\": 25,\n",
    "    \"city\": \"Kuala Lumpur\"\n",
    "}\n",
    "print(person[\"name\"])  # Ali"
   ]
  },
  {
   "cell_type": "code",
   "execution_count": 43,
   "id": "4e800470-07f5-4a5c-829d-80379b633f93",
   "metadata": {},
   "outputs": [
    {
     "name": "stdout",
     "output_type": "stream",
     "text": [
      "{'brand': 'Ford', 'model': 'Mustang', 'year': 1964}\n"
     ]
    }
   ],
   "source": [
    "thisdict = {\n",
    "  \"brand\": \"Ford\",\n",
    "  \"model\": \"Mustang\",\n",
    "  \"year\": 1964\n",
    "}\n",
    "print(thisdict)\n"
   ]
  },
  {
   "cell_type": "code",
   "execution_count": 44,
   "id": "cc658a1f-80fc-4b43-b8ff-bd4017142a48",
   "metadata": {},
   "outputs": [
    {
     "name": "stdout",
     "output_type": "stream",
     "text": [
      "Ford\n"
     ]
    }
   ],
   "source": [
    "thisdict = {\n",
    "  \"brand\": \"Ford\",\n",
    "  \"model\": \"Mustang\",\n",
    "  \"year\": 1964\n",
    "}\n",
    "print(thisdict[\"brand\"])\n"
   ]
  },
  {
   "cell_type": "markdown",
   "id": "b1ee08b8-3531-49c6-9a65-c6656344f8ec",
   "metadata": {},
   "source": [
    "## Duplicate values will overwrite existing values:"
   ]
  },
  {
   "cell_type": "code",
   "execution_count": 45,
   "id": "7aeb4a8e-b319-4f01-9bea-ba9c234b9e54",
   "metadata": {},
   "outputs": [
    {
     "name": "stdout",
     "output_type": "stream",
     "text": [
      "{'brand': 'Ford', 'model': 'Mustang', 'year': 2020}\n"
     ]
    }
   ],
   "source": [
    "thisdict = {\n",
    "  \"brand\": \"Ford\",\n",
    "  \"model\": \"Mustang\",\n",
    "  \"year\": 1964,\n",
    "  \"year\": 2020\n",
    "}\n",
    "print(thisdict)"
   ]
  },
  {
   "cell_type": "markdown",
   "id": "35887cfb-3716-417e-a871-427a5d6f9de2",
   "metadata": {},
   "source": [
    "## Accessing Items"
   ]
  },
  {
   "cell_type": "code",
   "execution_count": 46,
   "id": "8344baa1-f3e3-4f0d-b2a1-966bfcde5025",
   "metadata": {},
   "outputs": [],
   "source": [
    "thisdict = {\n",
    "  \"brand\": \"Ford\",\n",
    "  \"model\": \"Mustang\",\n",
    "  \"year\": 1964\n",
    "}\n",
    "x = thisdict[\"model\"]"
   ]
  },
  {
   "cell_type": "code",
   "execution_count": 47,
   "id": "7840812d-68ce-41b2-b396-1a2fd7e28bbf",
   "metadata": {},
   "outputs": [],
   "source": [
    "x = thisdict.get(\"model\")"
   ]
  },
  {
   "cell_type": "markdown",
   "id": "3c941d27-ba9d-4ff4-b108-680ec721186b",
   "metadata": {},
   "source": [
    "## Get Keys"
   ]
  },
  {
   "cell_type": "code",
   "execution_count": 48,
   "id": "af690510-a01c-4bea-b066-fb6500340353",
   "metadata": {},
   "outputs": [],
   "source": [
    "x = thisdict.keys()"
   ]
  },
  {
   "cell_type": "code",
   "execution_count": 49,
   "id": "62a6bce7-c5d6-4976-ac4b-18a980fa9930",
   "metadata": {},
   "outputs": [
    {
     "name": "stdout",
     "output_type": "stream",
     "text": [
      "dict_keys(['brand', 'model', 'year'])\n",
      "dict_keys(['brand', 'model', 'year', 'color'])\n"
     ]
    }
   ],
   "source": [
    "car = {\n",
    "\"brand\": \"Ford\",\n",
    "\"model\": \"Mustang\",\n",
    "\"year\": 1964\n",
    "}\n",
    "\n",
    "x = car.keys()\n",
    "\n",
    "print(x) #before the change\n",
    "\n",
    "car[\"color\"] = \"white\"\n",
    "\n",
    "print(x) #after the change"
   ]
  },
  {
   "cell_type": "markdown",
   "id": "870bdd21-35f2-4d55-840b-922988d34292",
   "metadata": {},
   "source": [
    "## Get Values"
   ]
  },
  {
   "cell_type": "code",
   "execution_count": 50,
   "id": "9bdfc29e-9628-4e6c-b7b5-55d0468e6fac",
   "metadata": {},
   "outputs": [],
   "source": [
    "x = thisdict.values()"
   ]
  },
  {
   "cell_type": "code",
   "execution_count": 51,
   "id": "284a7c13-4559-4f05-a608-8fcf8a02b40c",
   "metadata": {},
   "outputs": [
    {
     "name": "stdout",
     "output_type": "stream",
     "text": [
      "dict_values(['Ford', 'Mustang', 1964])\n",
      "dict_values(['Ford', 'Mustang', 2020])\n"
     ]
    }
   ],
   "source": [
    "car = {\n",
    "\"brand\": \"Ford\",\n",
    "\"model\": \"Mustang\",\n",
    "\"year\": 1964\n",
    "}\n",
    "\n",
    "x = car.values()\n",
    "\n",
    "print(x) #before the change\n",
    "\n",
    "car[\"year\"] = 2020\n",
    "\n",
    "print(x) #after the change"
   ]
  },
  {
   "cell_type": "code",
   "execution_count": 52,
   "id": "25ed8978-4b57-4203-89d4-199aeee4f66a",
   "metadata": {},
   "outputs": [
    {
     "name": "stdout",
     "output_type": "stream",
     "text": [
      "dict_values(['Ford', 'Mustang', 1964])\n",
      "dict_values(['Ford', 'Mustang', 1964, 'red'])\n"
     ]
    }
   ],
   "source": [
    "car = {\n",
    "\"brand\": \"Ford\",\n",
    "\"model\": \"Mustang\",\n",
    "\"year\": 1964\n",
    "}\n",
    "\n",
    "x = car.values()\n",
    "\n",
    "print(x) #before the change\n",
    "\n",
    "car[\"color\"] = \"red\"\n",
    "\n",
    "print(x) #after the change"
   ]
  },
  {
   "cell_type": "markdown",
   "id": "7817e69d-fdf5-4096-b8fa-8eed3c4bc66a",
   "metadata": {},
   "source": [
    "##Get Items"
   ]
  },
  {
   "cell_type": "code",
   "execution_count": 53,
   "id": "fec01f12-be39-4cae-a4a2-d44e280373b5",
   "metadata": {},
   "outputs": [],
   "source": [
    "x = thisdict.items()"
   ]
  },
  {
   "cell_type": "code",
   "execution_count": 54,
   "id": "5b922c78-cf45-479c-aa1e-cb50294f26e8",
   "metadata": {},
   "outputs": [
    {
     "name": "stdout",
     "output_type": "stream",
     "text": [
      "dict_items([('brand', 'Ford'), ('model', 'Mustang'), ('year', 1964)])\n",
      "dict_items([('brand', 'Ford'), ('model', 'Mustang'), ('year', 2020)])\n"
     ]
    }
   ],
   "source": [
    "car = {\n",
    "\"brand\": \"Ford\",\n",
    "\"model\": \"Mustang\",\n",
    "\"year\": 1964\n",
    "}\n",
    "\n",
    "x = car.items()\n",
    "\n",
    "print(x) #before the change\n",
    "\n",
    "car[\"year\"] = 2020\n",
    "\n",
    "print(x) #after the change\n"
   ]
  },
  {
   "cell_type": "code",
   "execution_count": 55,
   "id": "3eb3e3c7-1aab-4397-85fc-096abdff94ac",
   "metadata": {},
   "outputs": [
    {
     "name": "stdout",
     "output_type": "stream",
     "text": [
      "dict_items([('brand', 'Ford'), ('model', 'Mustang'), ('year', 1964)])\n",
      "dict_items([('brand', 'Ford'), ('model', 'Mustang'), ('year', 1964), ('color', 'red')])\n"
     ]
    }
   ],
   "source": [
    "car = {\n",
    "\"brand\": \"Ford\",\n",
    "\"model\": \"Mustang\",\n",
    "\"year\": 1964\n",
    "}\n",
    "\n",
    "x = car.items()\n",
    "\n",
    "print(x) #before the change\n",
    "\n",
    "car[\"color\"] = \"red\"\n",
    "\n",
    "print(x) #after the change\n"
   ]
  },
  {
   "cell_type": "markdown",
   "id": "45b25a6a-e636-4e34-802b-77e26ff2643c",
   "metadata": {},
   "source": [
    "## Check if Key Exists"
   ]
  },
  {
   "cell_type": "code",
   "execution_count": 56,
   "id": "26152c6b-965f-47aa-b73e-fd90056447ed",
   "metadata": {},
   "outputs": [
    {
     "name": "stdout",
     "output_type": "stream",
     "text": [
      "Yes, 'model' is one of the keys in the thisdict dictionary\n"
     ]
    }
   ],
   "source": [
    "thisdict = {\n",
    "  \"brand\": \"Ford\",\n",
    "  \"model\": \"Mustang\",\n",
    "  \"year\": 1964\n",
    "}\n",
    "if \"model\" in thisdict:\n",
    "  print(\"Yes, 'model' is one of the keys in the thisdict dictionary\")\n"
   ]
  },
  {
   "cell_type": "markdown",
   "id": "29e72fa8-3509-4929-8935-4466fb3a1f25",
   "metadata": {},
   "source": [
    "## Change Values"
   ]
  },
  {
   "cell_type": "code",
   "execution_count": 57,
   "id": "07007ae1-25ba-427a-be64-b0e8add229e4",
   "metadata": {},
   "outputs": [],
   "source": [
    "thisdict = {\n",
    "  \"brand\": \"Ford\",\n",
    "  \"model\": \"Mustang\",\n",
    "  \"year\": 1964\n",
    "}\n",
    "thisdict[\"year\"] = 2018"
   ]
  },
  {
   "cell_type": "markdown",
   "id": "65fea972-ac3e-4684-984f-9327e2a48f4d",
   "metadata": {},
   "source": [
    "## Update Dictionary"
   ]
  },
  {
   "cell_type": "code",
   "execution_count": 58,
   "id": "fcfb7361-28c4-4906-a8b3-b1951b51f8e9",
   "metadata": {},
   "outputs": [],
   "source": [
    "thisdict = {\n",
    "  \"brand\": \"Ford\",\n",
    "  \"model\": \"Mustang\",\n",
    "  \"year\": 1964\n",
    "}\n",
    "thisdict.update({\"year\": 2020})\n"
   ]
  },
  {
   "cell_type": "markdown",
   "id": "38b68dd5-fc82-4edd-a729-7bc29e0f3336",
   "metadata": {},
   "source": [
    "## Adding Items"
   ]
  },
  {
   "cell_type": "code",
   "execution_count": 59,
   "id": "cdbef93e-b279-4fd7-99c2-8d6491dc5065",
   "metadata": {},
   "outputs": [
    {
     "name": "stdout",
     "output_type": "stream",
     "text": [
      "{'brand': 'Ford', 'model': 'Mustang', 'year': 1964, 'color': 'red'}\n"
     ]
    }
   ],
   "source": [
    "thisdict = {\n",
    "  \"brand\": \"Ford\",\n",
    "  \"model\": \"Mustang\",\n",
    "  \"year\": 1964\n",
    "}\n",
    "thisdict[\"color\"] = \"red\"\n",
    "print(thisdict)"
   ]
  },
  {
   "cell_type": "markdown",
   "id": "239f122f-8447-4f6a-88ac-84d3c0e1ad7f",
   "metadata": {},
   "source": [
    "## Update Dictionary"
   ]
  },
  {
   "cell_type": "code",
   "execution_count": 60,
   "id": "3df579d3-d5c6-42de-b649-cddfb1331983",
   "metadata": {},
   "outputs": [],
   "source": [
    "thisdict = {\n",
    "  \"brand\": \"Ford\",\n",
    "  \"model\": \"Mustang\",\n",
    "  \"year\": 1964\n",
    "}\n",
    "thisdict.update({\"color\": \"red\"})"
   ]
  },
  {
   "cell_type": "markdown",
   "id": "bab62200-b255-4fd5-9e22-f4434576b86e",
   "metadata": {},
   "source": [
    "## Removing Items"
   ]
  },
  {
   "cell_type": "code",
   "execution_count": 61,
   "id": "57ab90f8-a2ef-4887-9d34-5e9d3c3e3978",
   "metadata": {},
   "outputs": [
    {
     "name": "stdout",
     "output_type": "stream",
     "text": [
      "{'brand': 'Ford', 'year': 1964}\n"
     ]
    }
   ],
   "source": [
    "thisdict = {\n",
    "  \"brand\": \"Ford\",\n",
    "  \"model\": \"Mustang\",\n",
    "  \"year\": 1964\n",
    "}\n",
    "thisdict.pop(\"model\")\n",
    "print(thisdict)"
   ]
  },
  {
   "cell_type": "markdown",
   "id": "59955801-0d4c-4e05-bb9a-9e4c9aa2b1bf",
   "metadata": {},
   "source": [
    "## Loop Through a Dictionary"
   ]
  },
  {
   "cell_type": "code",
   "execution_count": 62,
   "id": "8103af77-3c9b-49fc-b2d7-d63b077241d0",
   "metadata": {},
   "outputs": [
    {
     "name": "stdout",
     "output_type": "stream",
     "text": [
      "brand\n",
      "year\n"
     ]
    }
   ],
   "source": [
    "for x in thisdict:\n",
    "  print(x)"
   ]
  },
  {
   "cell_type": "code",
   "execution_count": 63,
   "id": "b7cab0b3-c2e2-4b0f-b0a2-7ef9354aace8",
   "metadata": {},
   "outputs": [
    {
     "name": "stdout",
     "output_type": "stream",
     "text": [
      "Ford\n",
      "1964\n"
     ]
    }
   ],
   "source": [
    "for x in thisdict:\n",
    "  print(thisdict[x])"
   ]
  },
  {
   "cell_type": "code",
   "execution_count": 64,
   "id": "cfe9b86e-10ba-4344-8baf-7d1edb181470",
   "metadata": {},
   "outputs": [
    {
     "name": "stdout",
     "output_type": "stream",
     "text": [
      "Ford\n",
      "1964\n"
     ]
    }
   ],
   "source": [
    "for x in thisdict.values():\n",
    "  print(x)"
   ]
  },
  {
   "cell_type": "code",
   "execution_count": 65,
   "id": "47469c94-2295-4a06-be26-2682cccc3e71",
   "metadata": {},
   "outputs": [
    {
     "name": "stdout",
     "output_type": "stream",
     "text": [
      "brand\n",
      "year\n"
     ]
    }
   ],
   "source": [
    "for x in thisdict.keys():\n",
    "  print(x)"
   ]
  },
  {
   "cell_type": "code",
   "execution_count": 66,
   "id": "fe20042a-cc64-4e1d-9f46-befce06d4441",
   "metadata": {},
   "outputs": [
    {
     "name": "stdout",
     "output_type": "stream",
     "text": [
      "brand Ford\n",
      "year 1964\n"
     ]
    }
   ],
   "source": [
    "for x, y in thisdict.items():\n",
    "  print(x, y)"
   ]
  },
  {
   "cell_type": "markdown",
   "id": "38f0d859-8617-4673-ae8d-2c0258156f0a",
   "metadata": {},
   "source": [
    "# Real Example"
   ]
  },
  {
   "cell_type": "code",
   "execution_count": 4,
   "id": "66aa3afc-9c50-4d25-8880-0649284a1890",
   "metadata": {},
   "outputs": [
    {
     "name": "stdout",
     "output_type": "stream",
     "text": [
      "Sara has an average grade of 84.33333333333333\n"
     ]
    }
   ],
   "source": [
    "student = {\n",
    "    \"name\": \"Sara\",\n",
    "    \"grades\": [85, 90, 78]\n",
    "}\n",
    "avg_grade = sum(student[\"grades\"]) / len(student[\"grades\"])\n",
    "print(student[\"name\"], \"has an average grade of\", avg_grade)\n"
   ]
  },
  {
   "cell_type": "markdown",
   "id": "c13d5f4a-f39d-421f-a8c2-74e6a2b5d9be",
   "metadata": {},
   "source": [
    "# Reading CSV Files"
   ]
  },
  {
   "cell_type": "raw",
   "id": "353d67b3-6a97-4892-ab0b-17546ee2f2e0",
   "metadata": {},
   "source": [
    "CSV = Comma-Separated Values\n",
    "\n",
    "Use pandas for easy reading:"
   ]
  },
  {
   "cell_type": "code",
   "execution_count": 6,
   "id": "4d378add-ad1b-4624-bcfe-1b27dc75ff0f",
   "metadata": {},
   "outputs": [
    {
     "name": "stdout",
     "output_type": "stream",
     "text": [
      "         Date       Category  Amount           Description\n",
      "0  2025-08-01           Food    15.5         Lunch at cafe\n",
      "1  2025-08-02      Transport     7.2              Bus fare\n",
      "2  2025-08-03  Entertainment    25.0          Movie ticket\n",
      "3  2025-08-04           Food    12.0  Dinner at restaurant\n",
      "4  2025-08-05      Utilities    45.0      Electricity bill\n"
     ]
    }
   ],
   "source": [
    "import pandas as pd\n",
    "\n",
    "data = pd.read_csv(\"expenses.csv\")\n",
    "print(data.head())"
   ]
  },
  {
   "cell_type": "markdown",
   "id": "e932ba4f-070d-4849-94fd-9fe56ea85ab6",
   "metadata": {},
   "source": [
    "# Writing CSV Files"
   ]
  },
  {
   "cell_type": "code",
   "execution_count": 7,
   "id": "32042d04-5aa9-481b-a2af-eeb84cc7fa0b",
   "metadata": {},
   "outputs": [],
   "source": [
    "data.to_csv(\"new_expenses.csv\", index=False)"
   ]
  },
  {
   "cell_type": "raw",
   "id": "3084c48d-c343-4332-9a0a-9a88b583ed40",
   "metadata": {},
   "source": [
    "index=False → prevents saving row numbers."
   ]
  },
  {
   "cell_type": "markdown",
   "id": "ae3ff573-65c4-4e27-b0be-d81f396da70c",
   "metadata": {},
   "source": [
    "# Mini Data Project"
   ]
  },
  {
   "cell_type": "raw",
   "id": "c6ab9a85-26fa-453c-bcbe-f947cb6f6464",
   "metadata": {},
   "source": [
    "Download expenses.csv from class folder.\n",
    "\n",
    "Load it using pandas.\n",
    "\n",
    "Calculate:\n",
    "\n",
    "Total expenses\n",
    "\n",
    "Average expense per day\n",
    "\n",
    "Save results to a new CSV file."
   ]
  },
  {
   "cell_type": "markdown",
   "id": "49f46df8-81f6-4e71-8442-fb4e53bc6f05",
   "metadata": {},
   "source": [
    "# Common Mistakes"
   ]
  },
  {
   "cell_type": "raw",
   "id": "41e8fc9c-15d8-46a8-8b6e-c6353ffe5115",
   "metadata": {},
   "source": [
    "File not found → make sure it’s in the right folder.\n",
    "\n",
    "Wrong column names → check with data.columns.\n",
    "\n",
    "Forgetting to import pandas."
   ]
  },
  {
   "cell_type": "markdown",
   "id": "b7bc6ac4-d2fa-4396-9d50-93f456f64cf0",
   "metadata": {},
   "source": [
    "# Key Takeaways"
   ]
  },
  {
   "cell_type": "raw",
   "id": "6ac3ffce-8660-4976-a4fe-9ca60f061555",
   "metadata": {},
   "source": [
    "Lists = ordered collection of items.\n",
    "\n",
    "Dictionaries = labeled data storage.\n",
    "\n",
    "pandas makes working with CSVs very simple."
   ]
  },
  {
   "cell_type": "markdown",
   "id": "3a04d2a1-d9d8-491e-bb0e-34d1b05c90e5",
   "metadata": {
    "editable": true,
    "slideshow": {
     "slide_type": ""
    },
    "tags": []
   },
   "source": [
    "## Python File Open"
   ]
  },
  {
   "attachments": {
    "f8551283-b984-440c-a036-bc1e32f234dd.png": {
     "image/png": "[encoded data removed]"
    }
   },
   "cell_type": "markdown",
   "id": "98d15b99-3264-4f1d-85ea-9a8471d551f7",
   "metadata": {},
   "source": [
    "![image.png](attachment:f8551283-b984-440c-a036-bc1e32f234dd.png)\n"
   ]
  },
  {
   "cell_type": "raw",
   "id": "d86761c7-b2d6-4e36-984c-7f773505cd13",
   "metadata": {},
   "source": [
    "Hello! Welcome to demofile.txt\n",
    "This file is for testing purposes.\n",
    "Good Luck"
   ]
  },
  {
   "cell_type": "code",
   "execution_count": 67,
   "id": "456437be-73fc-4dde-8f22-9c88a2946aee",
   "metadata": {},
   "outputs": [
    {
     "name": "stdout",
     "output_type": "stream",
     "text": [
      "Hello! Welcome to demofile.txt\n",
      "This file is for testing purposes.\n",
      "Good Luck\n"
     ]
    }
   ],
   "source": [
    "f = open(\"demofile.txt\")\n",
    "print(f.read())"
   ]
  },
  {
   "cell_type": "code",
   "execution_count": 68,
   "id": "1207302b-b6aa-4bb3-910e-74ed9fe3e61c",
   "metadata": {},
   "outputs": [
    {
     "name": "stdout",
     "output_type": "stream",
     "text": [
      "Hello! Welcome to demofile.txt\n",
      "This file is for testing purposes.\n",
      "Good Luck\n"
     ]
    }
   ],
   "source": [
    "with open(\"demofile.txt\") as f:\n",
    "  print(f.read())"
   ]
  },
  {
   "cell_type": "code",
   "execution_count": 69,
   "id": "3d6ab571-7856-4862-a3ab-799f97dc4362",
   "metadata": {},
   "outputs": [
    {
     "name": "stdout",
     "output_type": "stream",
     "text": [
      "Hello! Welcome to demofile.txt\n",
      "\n"
     ]
    }
   ],
   "source": [
    "f = open(\"demofile.txt\")\n",
    "print(f.readline())\n",
    "f.close()"
   ]
  },
  {
   "cell_type": "code",
   "execution_count": 70,
   "id": "c1262570-145a-421b-ab97-41f4a0caf231",
   "metadata": {},
   "outputs": [
    {
     "name": "stdout",
     "output_type": "stream",
     "text": [
      "Hello\n"
     ]
    }
   ],
   "source": [
    "with open(\"demofile.txt\") as f:\n",
    "  print(f.read(5))"
   ]
  },
  {
   "cell_type": "markdown",
   "id": "22b00e61-68c4-4ee5-9eee-42a051983310",
   "metadata": {},
   "source": [
    "## Python File Write"
   ]
  },
  {
   "cell_type": "code",
   "execution_count": 71,
   "id": "93acc2dc-3812-40db-8b1f-97620fd137dc",
   "metadata": {},
   "outputs": [
    {
     "name": "stdout",
     "output_type": "stream",
     "text": [
      "Hello! Welcome to demofile.txt\n",
      "This file is for testing purposes.\n",
      "Good LuckNow the file has more content!\n"
     ]
    }
   ],
   "source": [
    "with open(\"demofile.txt\", \"a\") as f:\n",
    "  f.write(\"Now the file has more content!\")\n",
    "\n",
    "#open and read the file after the appending:\n",
    "with open(\"demofile.txt\") as f:\n",
    "  print(f.read())\n"
   ]
  },
  {
   "cell_type": "code",
   "execution_count": 72,
   "id": "47932472-b1f4-4186-919a-dc7f2929d6d6",
   "metadata": {},
   "outputs": [
    {
     "name": "stdout",
     "output_type": "stream",
     "text": [
      "Woops! I have deleted the content!\n"
     ]
    }
   ],
   "source": [
    "with open(\"demofile.txt\", \"w\") as f:\n",
    "  f.write(\"Woops! I have deleted the content!\")\n",
    "\n",
    "#open and read the file after the overwriting:\n",
    "with open(\"demofile.txt\") as f:\n",
    "  print(f.read())"
   ]
  },
  {
   "cell_type": "code",
   "execution_count": null,
   "id": "5a11ee1a-105e-4d59-9cda-674e7eb4a795",
   "metadata": {},
   "outputs": [],
   "source": []
  }
 ],
 "metadata": {
  "kernelspec": {
   "display_name": "Python [conda env:base] *",
   "language": "python",
   "name": "conda-base-py"
  },
  "language_info": {
   "codemirror_mode": {
    "name": "ipython",
    "version": 3
   },
   "file_extension": ".py",
   "mimetype": "text/x-python",
   "name": "python",
   "nbconvert_exporter": "python",
   "pygments_lexer": "ipython3",
   "version": "3.12.7"
  }
 },
 "nbformat": 4,
 "nbformat_minor": 5
}
